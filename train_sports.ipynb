{
 "cells": [
  {
   "cell_type": "code",
   "execution_count": 1,
   "id": "22fd3289",
   "metadata": {},
   "outputs": [],
   "source": [
    "import os\n",
    "import cv2\n",
    "import numpy as np\n",
    "from imutils import paths"
   ]
  },
  {
   "cell_type": "code",
   "execution_count": 2,
   "id": "dada2896",
   "metadata": {},
   "outputs": [
    {
     "name": "stdout",
     "output_type": "stream",
     "text": [
      "Requirement already satisfied: imutils in c:\\anaconda3\\envs\\keras\\lib\\site-packages (0.5.4)\n",
      "Note: you may need to restart the kernel to use updated packages.\n"
     ]
    }
   ],
   "source": [
    "pip install imutils"
   ]
  },
  {
   "cell_type": "code",
   "execution_count": 3,
   "id": "93610aae",
   "metadata": {},
   "outputs": [
    {
     "name": "stdout",
     "output_type": "stream",
     "text": [
      "Requirement already satisfied: scikit-learn in c:\\anaconda3\\envs\\keras\\lib\\site-packages (0.24.2)\n",
      "Requirement already satisfied: threadpoolctl>=2.0.0 in c:\\anaconda3\\envs\\keras\\lib\\site-packages (from scikit-learn) (2.2.0)\n",
      "Requirement already satisfied: joblib>=0.11 in c:\\anaconda3\\envs\\keras\\lib\\site-packages (from scikit-learn) (1.0.1)\n",
      "Requirement already satisfied: scipy>=0.19.1 in c:\\anaconda3\\envs\\keras\\lib\\site-packages (from scikit-learn) (1.7.0)\n",
      "Requirement already satisfied: numpy>=1.13.3 in c:\\anaconda3\\envs\\keras\\lib\\site-packages (from scikit-learn) (1.19.5)\n",
      "Note: you may need to restart the kernel to use updated packages.\n"
     ]
    }
   ],
   "source": [
    "pip install -U scikit-learn"
   ]
  },
  {
   "cell_type": "code",
   "execution_count": 4,
   "id": "5dd1d263",
   "metadata": {},
   "outputs": [],
   "source": [
    "from sklearn.preprocessing import label_binarize"
   ]
  },
  {
   "cell_type": "code",
   "execution_count": 5,
   "id": "9b64edd3",
   "metadata": {},
   "outputs": [],
   "source": [
    "from sklearn.preprocessing import LabelBinarizer"
   ]
  },
  {
   "cell_type": "code",
   "execution_count": 6,
   "id": "22b23851",
   "metadata": {},
   "outputs": [],
   "source": [
    "from sklearn.model_selection import train_test_split"
   ]
  },
  {
   "cell_type": "code",
   "execution_count": 7,
   "id": "6bb3e739",
   "metadata": {},
   "outputs": [],
   "source": [
    "from keras.preprocessing.image import ImageDataGenerator"
   ]
  },
  {
   "cell_type": "code",
   "execution_count": 8,
   "id": "62412745",
   "metadata": {},
   "outputs": [],
   "source": [
    "datapath = r'C:\\Sports-Type-Classifier\\dataset\\data'\n",
    "outputmodel = r'C:\\Sports-Type-Classifier\\video_classification_model\\videoclassificationModel'\n",
    "ouputlabelbinarize = r'C:\\Sports-Type-Classifier\\video_classification_model\\videoclassificationbinarizer'\n",
    "epoch= 25"
   ]
  },
  {
   "cell_type": "code",
   "execution_count": 9,
   "id": "6ce3ef12",
   "metadata": {},
   "outputs": [
    {
     "name": "stdout",
     "output_type": "stream",
     "text": [
      "Images is being loaded..\n"
     ]
    }
   ],
   "source": [
    "Sports_Labels = set(['boxing', 'swimming', 'table_tennis'])\n",
    "print('Images is being loaded..')\n",
    "pathToImages = list(paths.list_images(datapath))\n",
    "data = []\n",
    "labels = []\n",
    "\n",
    "for images in pathToImages:\n",
    "    label = images.split(os.path.sep)[-2]\n",
    "    if label not in Sports_Labels:\n",
    "        continue\n",
    "    image = cv2.imread(images)\n",
    "    image = cv2.cvtColor(image, cv2.COLOR_BGR2RGB)\n",
    "    image = cv2.resize(image, (244,244))\n",
    "    data.append(image)\n",
    "    labels.append(label)"
   ]
  },
  {
   "cell_type": "code",
   "execution_count": 10,
   "id": "8a02f75d",
   "metadata": {},
   "outputs": [],
   "source": [
    "data = np.array(data)\n",
    "labels = np.array(labels)\n",
    "#hot encoded values as 0,1,2\n",
    "lb = LabelBinarizer()\n",
    "labels = lb.fit_transform(labels)"
   ]
  },
  {
   "cell_type": "code",
   "execution_count": 11,
   "id": "00355e90",
   "metadata": {},
   "outputs": [],
   "source": [
    "(X_train, X_test, y_train, y_test)= train_test_split(data, labels, test_size=0.2, stratify=labels, random_state=42)"
   ]
  },
  {
   "cell_type": "code",
   "execution_count": 13,
   "id": "6b515ede",
   "metadata": {},
   "outputs": [],
   "source": [
    "traininaugmentation = ImageDataGenerator(\n",
    "rotation_range=30,\n",
    "zoom_range=0.15,\n",
    "width_shift_range=0.2,\n",
    "height_shift_range=0.2,\n",
    "shear_range=0.15,\n",
    "horizontal_flip=True,\n",
    "fill_mode='nearest')\n",
    "validationaugmentation= ImageDataGenerator()\n",
    "mean = np.array([123.68, 116.77, 103.939], dtype='float32')\n",
    "traininaugmentation.mean = mean\n",
    "validationaugmentation.mean = mean"
   ]
  },
  {
   "cell_type": "code",
   "execution_count": 26,
   "id": "970b56bf",
   "metadata": {},
   "outputs": [],
   "source": [
    "from keras.layers import Input\n",
    "from keras.layers.pooling import AveragePooling2D\n",
    "#from keras.applications import ResNet50\n",
    "#from keras.applications.resnet50 import ResNet50\n",
    "from keras.layers.core import Flatten\n",
    "from keras.layers.core import Dense\n",
    "from tensorflow.keras.applications.resnet import ResNet50\n",
    "\n",
    "from keras.layers.core import Dropout\n",
    "from keras.models import Model"
   ]
  },
  {
   "cell_type": "code",
   "execution_count": 27,
   "id": "4bdadcd3",
   "metadata": {
    "scrolled": true
   },
   "outputs": [
    {
     "ename": "ValueError",
     "evalue": "Unexpectedly found an instance of type `<class 'keras.engine.keras_tensor.KerasTensor'>`. Expected a symbolic tensor instance.",
     "output_type": "error",
     "traceback": [
      "\u001b[1;31m---------------------------------------------------------------------------\u001b[0m",
      "\u001b[1;31mValueError\u001b[0m                                Traceback (most recent call last)",
      "\u001b[1;32m<ipython-input-27-0521a328537d>\u001b[0m in \u001b[0;36m<module>\u001b[1;34m\u001b[0m\n\u001b[1;32m----> 1\u001b[1;33m \u001b[0mbaseModel\u001b[0m \u001b[1;33m=\u001b[0m \u001b[0mResNet50\u001b[0m\u001b[1;33m(\u001b[0m\u001b[0mweights\u001b[0m\u001b[1;33m=\u001b[0m\u001b[1;34m'imagenet'\u001b[0m\u001b[1;33m,\u001b[0m \u001b[0minclude_top\u001b[0m\u001b[1;33m=\u001b[0m \u001b[1;32mFalse\u001b[0m\u001b[1;33m,\u001b[0m \u001b[0minput_tensor\u001b[0m \u001b[1;33m=\u001b[0m \u001b[0mInput\u001b[0m\u001b[1;33m(\u001b[0m\u001b[0mshape\u001b[0m\u001b[1;33m=\u001b[0m\u001b[1;33m(\u001b[0m\u001b[1;36m224\u001b[0m\u001b[1;33m,\u001b[0m\u001b[1;36m224\u001b[0m\u001b[1;33m,\u001b[0m\u001b[1;36m3\u001b[0m\u001b[1;33m)\u001b[0m\u001b[1;33m)\u001b[0m\u001b[1;33m)\u001b[0m\u001b[1;33m\u001b[0m\u001b[1;33m\u001b[0m\u001b[0m\n\u001b[0m\u001b[0;32m      2\u001b[0m \u001b[1;33m\u001b[0m\u001b[0m\n\u001b[0;32m      3\u001b[0m \u001b[0mheadModel\u001b[0m \u001b[1;33m=\u001b[0m \u001b[0mbaseModel\u001b[0m\u001b[1;33m.\u001b[0m\u001b[0moutput\u001b[0m\u001b[1;33m\u001b[0m\u001b[1;33m\u001b[0m\u001b[0m\n\u001b[0;32m      4\u001b[0m \u001b[0mheadModel\u001b[0m \u001b[1;33m=\u001b[0m \u001b[0mAveragePooling2D\u001b[0m\u001b[1;33m(\u001b[0m\u001b[0mpool_size\u001b[0m\u001b[1;33m=\u001b[0m\u001b[1;33m(\u001b[0m\u001b[1;36m7\u001b[0m\u001b[1;33m,\u001b[0m\u001b[1;36m7\u001b[0m\u001b[1;33m)\u001b[0m\u001b[1;33m)\u001b[0m\u001b[1;33m(\u001b[0m\u001b[0mheadModel\u001b[0m\u001b[1;33m)\u001b[0m\u001b[1;33m\u001b[0m\u001b[1;33m\u001b[0m\u001b[0m\n\u001b[0;32m      5\u001b[0m \u001b[0mheadModel\u001b[0m \u001b[1;33m=\u001b[0m \u001b[0mFlatten\u001b[0m\u001b[1;33m(\u001b[0m\u001b[0mname\u001b[0m\u001b[1;33m=\u001b[0m\u001b[1;34m'flatten'\u001b[0m\u001b[1;33m)\u001b[0m\u001b[1;33m(\u001b[0m\u001b[0mheadModel\u001b[0m\u001b[1;33m)\u001b[0m\u001b[1;33m\u001b[0m\u001b[1;33m\u001b[0m\u001b[0m\n",
      "\u001b[1;32mC:\\anaconda3\\envs\\keras\\lib\\site-packages\\tensorflow\\python\\keras\\applications\\resnet.py\u001b[0m in \u001b[0;36mResNet50\u001b[1;34m(include_top, weights, input_tensor, input_shape, pooling, classes, **kwargs)\u001b[0m\n\u001b[0;32m    455\u001b[0m     \u001b[1;32mreturn\u001b[0m \u001b[0mstack1\u001b[0m\u001b[1;33m(\u001b[0m\u001b[0mx\u001b[0m\u001b[1;33m,\u001b[0m \u001b[1;36m512\u001b[0m\u001b[1;33m,\u001b[0m \u001b[1;36m3\u001b[0m\u001b[1;33m,\u001b[0m \u001b[0mname\u001b[0m\u001b[1;33m=\u001b[0m\u001b[1;34m'conv5'\u001b[0m\u001b[1;33m)\u001b[0m\u001b[1;33m\u001b[0m\u001b[1;33m\u001b[0m\u001b[0m\n\u001b[0;32m    456\u001b[0m \u001b[1;33m\u001b[0m\u001b[0m\n\u001b[1;32m--> 457\u001b[1;33m   return ResNet(stack_fn, False, True, 'resnet50', include_top, weights,\n\u001b[0m\u001b[0;32m    458\u001b[0m                 input_tensor, input_shape, pooling, classes, **kwargs)\n\u001b[0;32m    459\u001b[0m \u001b[1;33m\u001b[0m\u001b[0m\n",
      "\u001b[1;32mC:\\anaconda3\\envs\\keras\\lib\\site-packages\\tensorflow\\python\\keras\\applications\\resnet.py\u001b[0m in \u001b[0;36mResNet\u001b[1;34m(stack_fn, preact, use_bias, model_name, include_top, weights, input_tensor, input_shape, pooling, classes, classifier_activation, **kwargs)\u001b[0m\n\u001b[0;32m    143\u001b[0m     \u001b[0mimg_input\u001b[0m \u001b[1;33m=\u001b[0m \u001b[0mlayers\u001b[0m\u001b[1;33m.\u001b[0m\u001b[0mInput\u001b[0m\u001b[1;33m(\u001b[0m\u001b[0mshape\u001b[0m\u001b[1;33m=\u001b[0m\u001b[0minput_shape\u001b[0m\u001b[1;33m)\u001b[0m\u001b[1;33m\u001b[0m\u001b[1;33m\u001b[0m\u001b[0m\n\u001b[0;32m    144\u001b[0m   \u001b[1;32melse\u001b[0m\u001b[1;33m:\u001b[0m\u001b[1;33m\u001b[0m\u001b[1;33m\u001b[0m\u001b[0m\n\u001b[1;32m--> 145\u001b[1;33m     \u001b[1;32mif\u001b[0m \u001b[1;32mnot\u001b[0m \u001b[0mbackend\u001b[0m\u001b[1;33m.\u001b[0m\u001b[0mis_keras_tensor\u001b[0m\u001b[1;33m(\u001b[0m\u001b[0minput_tensor\u001b[0m\u001b[1;33m)\u001b[0m\u001b[1;33m:\u001b[0m\u001b[1;33m\u001b[0m\u001b[1;33m\u001b[0m\u001b[0m\n\u001b[0m\u001b[0;32m    146\u001b[0m       \u001b[0mimg_input\u001b[0m \u001b[1;33m=\u001b[0m \u001b[0mlayers\u001b[0m\u001b[1;33m.\u001b[0m\u001b[0mInput\u001b[0m\u001b[1;33m(\u001b[0m\u001b[0mtensor\u001b[0m\u001b[1;33m=\u001b[0m\u001b[0minput_tensor\u001b[0m\u001b[1;33m,\u001b[0m \u001b[0mshape\u001b[0m\u001b[1;33m=\u001b[0m\u001b[0minput_shape\u001b[0m\u001b[1;33m)\u001b[0m\u001b[1;33m\u001b[0m\u001b[1;33m\u001b[0m\u001b[0m\n\u001b[0;32m    147\u001b[0m     \u001b[1;32melse\u001b[0m\u001b[1;33m:\u001b[0m\u001b[1;33m\u001b[0m\u001b[1;33m\u001b[0m\u001b[0m\n",
      "\u001b[1;32mC:\\anaconda3\\envs\\keras\\lib\\site-packages\\tensorflow\\python\\keras\\backend.py\u001b[0m in \u001b[0;36mis_keras_tensor\u001b[1;34m(x)\u001b[0m\n\u001b[0;32m   1275\u001b[0m                      \u001b[0msparse_tensor\u001b[0m\u001b[1;33m.\u001b[0m\u001b[0mSparseTensor\u001b[0m\u001b[1;33m,\u001b[0m \u001b[0mragged_tensor\u001b[0m\u001b[1;33m.\u001b[0m\u001b[0mRaggedTensor\u001b[0m\u001b[1;33m,\u001b[0m\u001b[1;33m\u001b[0m\u001b[1;33m\u001b[0m\u001b[0m\n\u001b[0;32m   1276\u001b[0m                      keras_tensor.KerasTensor)):\n\u001b[1;32m-> 1277\u001b[1;33m     raise ValueError('Unexpectedly found an instance of type `' + str(type(x)) +\n\u001b[0m\u001b[0;32m   1278\u001b[0m                      '`. Expected a symbolic tensor instance.')\n\u001b[0;32m   1279\u001b[0m   \u001b[1;32mif\u001b[0m \u001b[0mops\u001b[0m\u001b[1;33m.\u001b[0m\u001b[0mexecuting_eagerly_outside_functions\u001b[0m\u001b[1;33m(\u001b[0m\u001b[1;33m)\u001b[0m\u001b[1;33m:\u001b[0m\u001b[1;33m\u001b[0m\u001b[1;33m\u001b[0m\u001b[0m\n",
      "\u001b[1;31mValueError\u001b[0m: Unexpectedly found an instance of type `<class 'keras.engine.keras_tensor.KerasTensor'>`. Expected a symbolic tensor instance."
     ]
    }
   ],
   "source": [
    "baseModel = ResNet50(weights='imagenet', include_top= False, input_tensor = Input(shape=(224,224,3)))\n",
    "\n",
    "headModel = baseModel.output\n",
    "headModel = AveragePooling2D(pool_size=(7,7))(headModel)\n",
    "headModel = Flatten(name='flatten')(headModel)\n",
    "headModel = Dense(512, activation='relu')(headModel)\n",
    "headModel = Dropout(0.5)(headModel)\n",
    "headModel = Dense(len(lb.classes_), activation='softmax')(headModel)\n",
    "model = Model(inputs=baseModel.input, outputs=headModel)\n",
    "\n",
    "for basemodellayers in baseModel.layers:\n",
    "    basemodellayers.trainable = False"
   ]
  },
  {
   "cell_type": "code",
   "execution_count": 23,
   "id": "042f5901",
   "metadata": {},
   "outputs": [],
   "source": [
    "from keras.optimizers import SGD"
   ]
  },
  {
   "cell_type": "code",
   "execution_count": 50,
   "id": "9dafe1c7",
   "metadata": {},
   "outputs": [],
   "source": [
    "opt = SGD(lr=0.0001, momentum=0.9, decay=1e-4/epoch)"
   ]
  },
  {
   "cell_type": "code",
   "execution_count": 51,
   "id": "14e613d9",
   "metadata": {},
   "outputs": [],
   "source": [
    "model.compile(loss='categorical_crossentropy', optimizer=opt, metrics=['accuracy'])"
   ]
  },
  {
   "cell_type": "code",
   "execution_count": 53,
   "id": "e9be9b52",
   "metadata": {},
   "outputs": [
    {
     "name": "stdout",
     "output_type": "stream",
     "text": [
      "WARNING:tensorflow:From <ipython-input-53-b2cbfdd5851e>:6: Model.fit_generator (from tensorflow.python.keras.engine.training) is deprecated and will be removed in a future version.\n",
      "Instructions for updating:\n",
      "Please use Model.fit, which supports generators.\n",
      "Epoch 1/25\n",
      "52/52 [==============================] - 78s 1s/step - loss: 1.0565 - accuracy: 0.5551 - val_loss: 0.4330 - val_accuracy: 0.8245\n",
      "Epoch 2/25\n",
      "52/52 [==============================] - 77s 1s/step - loss: 0.6456 - accuracy: 0.7361 - val_loss: 0.2862 - val_accuracy: 0.8990\n",
      "Epoch 3/25\n",
      "52/52 [==============================] - 78s 1s/step - loss: 0.4921 - accuracy: 0.7952 - val_loss: 0.2298 - val_accuracy: 0.9255\n",
      "Epoch 4/25\n",
      "52/52 [==============================] - 78s 1s/step - loss: 0.4005 - accuracy: 0.8422 - val_loss: 0.2010 - val_accuracy: 0.9255\n",
      "Epoch 5/25\n",
      "52/52 [==============================] - 79s 2s/step - loss: 0.3831 - accuracy: 0.8513 - val_loss: 0.1807 - val_accuracy: 0.9399\n",
      "Epoch 6/25\n",
      "52/52 [==============================] - 84s 2s/step - loss: 0.3399 - accuracy: 0.8653 - val_loss: 0.1656 - val_accuracy: 0.9423\n",
      "Epoch 7/25\n",
      "52/52 [==============================] - 79s 2s/step - loss: 0.3078 - accuracy: 0.8885 - val_loss: 0.1568 - val_accuracy: 0.9471\n",
      "Epoch 8/25\n",
      "52/52 [==============================] - 76s 1s/step - loss: 0.3192 - accuracy: 0.8714 - val_loss: 0.1452 - val_accuracy: 0.9495\n",
      "Epoch 9/25\n",
      "52/52 [==============================] - 75s 1s/step - loss: 0.2715 - accuracy: 0.8854 - val_loss: 0.1424 - val_accuracy: 0.9495\n",
      "Epoch 10/25\n",
      "52/52 [==============================] - 75s 1s/step - loss: 0.2728 - accuracy: 0.8952 - val_loss: 0.1351 - val_accuracy: 0.9519\n",
      "Epoch 11/25\n",
      "52/52 [==============================] - 78s 2s/step - loss: 0.2787 - accuracy: 0.8946 - val_loss: 0.1261 - val_accuracy: 0.9519\n",
      "Epoch 12/25\n",
      "52/52 [==============================] - 81s 2s/step - loss: 0.2495 - accuracy: 0.9001 - val_loss: 0.1256 - val_accuracy: 0.9591\n",
      "Epoch 13/25\n",
      "52/52 [==============================] - 87s 2s/step - loss: 0.2442 - accuracy: 0.9043 - val_loss: 0.1231 - val_accuracy: 0.9495\n",
      "Epoch 14/25\n",
      "52/52 [==============================] - 80s 2s/step - loss: 0.2173 - accuracy: 0.9220 - val_loss: 0.1200 - val_accuracy: 0.9639\n",
      "Epoch 15/25\n",
      "52/52 [==============================] - 79s 2s/step - loss: 0.2273 - accuracy: 0.9232 - val_loss: 0.1140 - val_accuracy: 0.9543\n",
      "Epoch 16/25\n",
      "52/52 [==============================] - 80s 2s/step - loss: 0.2260 - accuracy: 0.9129 - val_loss: 0.1055 - val_accuracy: 0.9639\n",
      "Epoch 17/25\n",
      "52/52 [==============================] - 77s 1s/step - loss: 0.2245 - accuracy: 0.9122 - val_loss: 0.1056 - val_accuracy: 0.9663\n",
      "Epoch 18/25\n",
      "52/52 [==============================] - 77s 1s/step - loss: 0.2181 - accuracy: 0.9159 - val_loss: 0.1023 - val_accuracy: 0.9688\n",
      "Epoch 19/25\n",
      "52/52 [==============================] - 78s 2s/step - loss: 0.1984 - accuracy: 0.9287 - val_loss: 0.1037 - val_accuracy: 0.9591\n",
      "Epoch 20/25\n",
      "52/52 [==============================] - 81s 2s/step - loss: 0.1870 - accuracy: 0.9281 - val_loss: 0.1011 - val_accuracy: 0.9663\n",
      "Epoch 21/25\n",
      "52/52 [==============================] - 79s 2s/step - loss: 0.1726 - accuracy: 0.9397 - val_loss: 0.0973 - val_accuracy: 0.9663\n",
      "Epoch 22/25\n",
      "52/52 [==============================] - 77s 1s/step - loss: 0.1801 - accuracy: 0.9360 - val_loss: 0.0952 - val_accuracy: 0.9615\n",
      "Epoch 23/25\n",
      "52/52 [==============================] - 77s 1s/step - loss: 0.1871 - accuracy: 0.9305 - val_loss: 0.0954 - val_accuracy: 0.9663\n",
      "Epoch 24/25\n",
      "52/52 [==============================] - 78s 2s/step - loss: 0.1899 - accuracy: 0.9336 - val_loss: 0.0929 - val_accuracy: 0.9639\n",
      "Epoch 25/25\n",
      "52/52 [==============================] - 79s 2s/step - loss: 0.1828 - accuracy: 0.9336 - val_loss: 0.0932 - val_accuracy: 0.9639\n"
     ]
    }
   ],
   "source": [
    "History= model.fit_generator(\n",
    "traininaugmentation.flow(X_train,y_train, batch_size=32),\n",
    "steps_per_epoch=len(X_train) // 32,\n",
    "validation_data= validationaugmentation.flow(X_test, y_test),\n",
    "validation_steps=len(X_test) //32,\n",
    "epochs= epoch\n",
    ")"
   ]
  },
  {
   "cell_type": "code",
   "execution_count": 54,
   "id": "d8b23b86",
   "metadata": {},
   "outputs": [],
   "source": [
    "import pickle"
   ]
  },
  {
   "cell_type": "code",
   "execution_count": 55,
   "id": "2d544dfe",
   "metadata": {},
   "outputs": [
    {
     "name": "stdout",
     "output_type": "stream",
     "text": [
      "WARNING:tensorflow:From C:\\Users\\KHJ\\anaconda3\\envs\\keras\\lib\\site-packages\\tensorflow\\python\\training\\tracking\\tracking.py:111: Model.state_updates (from tensorflow.python.keras.engine.training) is deprecated and will be removed in a future version.\n",
      "Instructions for updating:\n",
      "This property should not be used in TensorFlow 2.0, as updates are applied automatically.\n",
      "WARNING:tensorflow:From C:\\Users\\KHJ\\anaconda3\\envs\\keras\\lib\\site-packages\\tensorflow\\python\\training\\tracking\\tracking.py:111: Layer.updates (from tensorflow.python.keras.engine.base_layer) is deprecated and will be removed in a future version.\n",
      "Instructions for updating:\n",
      "This property should not be used in TensorFlow 2.0, as updates are applied automatically.\n",
      "INFO:tensorflow:Assets written to: C:\\Users\\KHJ\\Sports-Type-Classifier\\video_classification_model\\videoclassificationModel\\assets\n"
     ]
    }
   ],
   "source": [
    "model.save(outputmodel)\n",
    "lbinarizer = open(r'C:\\Sports-Type-Classifier\\video_classification_model\\videoclassificationbinarizer.pickle', 'wb')\n",
    "lbinarizer.write(pickle.dumps(lb))\n",
    "lbinarizer.close()"
   ]
  }
 ],
 "metadata": {
  "kernelspec": {
   "display_name": "Python 3",
   "language": "python",
   "name": "python3"
  },
  "language_info": {
   "codemirror_mode": {
    "name": "ipython",
    "version": 3
   },
   "file_extension": ".py",
   "mimetype": "text/x-python",
   "name": "python",
   "nbconvert_exporter": "python",
   "pygments_lexer": "ipython3",
   "version": "3.8.10"
  }
 },
 "nbformat": 4,
 "nbformat_minor": 5
}
