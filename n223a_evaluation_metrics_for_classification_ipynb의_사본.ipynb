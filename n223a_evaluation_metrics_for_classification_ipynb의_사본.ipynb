{
  "nbformat": 4,
  "nbformat_minor": 0,
  "metadata": {
    "kernelspec": {
      "display_name": "Python 3",
      "language": "python",
      "name": "python3"
    },
    "language_info": {
      "codemirror_mode": {
        "name": "ipython",
        "version": 3
      },
      "file_extension": ".py",
      "mimetype": "text/x-python",
      "name": "python",
      "nbconvert_exporter": "python",
      "pygments_lexer": "ipython3",
      "version": "3.7.7"
    },
    "colab": {
      "name": "n223a-evaluation-metrics-for-classification.ipynb의 사본",
      "provenance": []
    },
    "widgets": {
      "application/vnd.jupyter.widget-state+json": {
        "e77fec9c497545d3a8b59a3036eb5169": {
          "model_module": "@jupyter-widgets/controls",
          "model_name": "VBoxModel",
          "state": {
            "_view_name": "VBoxView",
            "_dom_classes": [
              "widget-interact"
            ],
            "_model_name": "VBoxModel",
            "_view_module": "@jupyter-widgets/controls",
            "_model_module_version": "1.5.0",
            "_view_count": null,
            "_view_module_version": "1.5.0",
            "box_style": "",
            "layout": "IPY_MODEL_1ef5d1a363be42b3a8c41e45e974a35b",
            "_model_module": "@jupyter-widgets/controls",
            "children": [
              "IPY_MODEL_53284df5747d41caaa9a6642052ed2f4",
              "IPY_MODEL_100d6618f2b14b80a8103662add6fe22"
            ]
          }
        },
        "1ef5d1a363be42b3a8c41e45e974a35b": {
          "model_module": "@jupyter-widgets/base",
          "model_name": "LayoutModel",
          "state": {
            "_view_name": "LayoutView",
            "grid_template_rows": null,
            "right": null,
            "justify_content": null,
            "_view_module": "@jupyter-widgets/base",
            "overflow": null,
            "_model_module_version": "1.2.0",
            "_view_count": null,
            "flex_flow": null,
            "width": null,
            "min_width": null,
            "border": null,
            "align_items": null,
            "bottom": null,
            "_model_module": "@jupyter-widgets/base",
            "top": null,
            "grid_column": null,
            "overflow_y": null,
            "overflow_x": null,
            "grid_auto_flow": null,
            "grid_area": null,
            "grid_template_columns": null,
            "flex": null,
            "_model_name": "LayoutModel",
            "justify_items": null,
            "grid_row": null,
            "max_height": null,
            "align_content": null,
            "visibility": null,
            "align_self": null,
            "height": null,
            "min_height": null,
            "padding": null,
            "grid_auto_rows": null,
            "grid_gap": null,
            "max_width": null,
            "order": null,
            "_view_module_version": "1.2.0",
            "grid_template_areas": null,
            "object_position": null,
            "object_fit": null,
            "grid_auto_columns": null,
            "margin": null,
            "display": null,
            "left": null
          }
        },
        "53284df5747d41caaa9a6642052ed2f4": {
          "model_module": "@jupyter-widgets/controls",
          "model_name": "FloatSliderModel",
          "state": {
            "_view_name": "FloatSliderView",
            "style": "IPY_MODEL_829fd5482bf34b64a15d597cfcf2263a",
            "_dom_classes": [],
            "description": "threshold",
            "step": 0.01,
            "_model_name": "FloatSliderModel",
            "orientation": "horizontal",
            "max": 1,
            "_view_module": "@jupyter-widgets/controls",
            "_model_module_version": "1.5.0",
            "value": 0.5,
            "_view_count": null,
            "disabled": false,
            "_view_module_version": "1.5.0",
            "min": 0,
            "continuous_update": true,
            "readout_format": ".2f",
            "description_tooltip": null,
            "readout": true,
            "_model_module": "@jupyter-widgets/controls",
            "layout": "IPY_MODEL_e569284f163f4bf7941f48b6ef2516ad"
          }
        },
        "100d6618f2b14b80a8103662add6fe22": {
          "model_module": "@jupyter-widgets/output",
          "model_name": "OutputModel",
          "state": {
            "_view_name": "OutputView",
            "msg_id": "",
            "_dom_classes": [],
            "_model_name": "OutputModel",
            "outputs": [
              {
                "output_type": "display_data",
                "metadata": {
                  "tags": [],
                  "needs_background": "light"
                },
                "image/png": "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\n",
                "text/plain": "<Figure size 432x288 with 1 Axes>"
              },
              {
                "output_type": "stream",
                "metadata": {
                  "tags": []
                },
                "text": "              precision    recall  f1-score   support\n\n           0       0.85      0.89      0.87      6416\n           1       0.59      0.49      0.54      2015\n\n    accuracy                           0.80      8431\n   macro avg       0.72      0.69      0.70      8431\nweighted avg       0.79      0.80      0.79      8431\n\n",
                "stream": "stdout"
              }
            ],
            "_view_module": "@jupyter-widgets/output",
            "_model_module_version": "1.0.0",
            "_view_count": null,
            "_view_module_version": "1.0.0",
            "layout": "IPY_MODEL_cc40589c158645a694a1cb44de4f142b",
            "_model_module": "@jupyter-widgets/output"
          }
        },
        "829fd5482bf34b64a15d597cfcf2263a": {
          "model_module": "@jupyter-widgets/controls",
          "model_name": "SliderStyleModel",
          "state": {
            "_view_name": "StyleView",
            "handle_color": null,
            "_model_name": "SliderStyleModel",
            "description_width": "",
            "_view_module": "@jupyter-widgets/base",
            "_model_module_version": "1.5.0",
            "_view_count": null,
            "_view_module_version": "1.2.0",
            "_model_module": "@jupyter-widgets/controls"
          }
        },
        "e569284f163f4bf7941f48b6ef2516ad": {
          "model_module": "@jupyter-widgets/base",
          "model_name": "LayoutModel",
          "state": {
            "_view_name": "LayoutView",
            "grid_template_rows": null,
            "right": null,
            "justify_content": null,
            "_view_module": "@jupyter-widgets/base",
            "overflow": null,
            "_model_module_version": "1.2.0",
            "_view_count": null,
            "flex_flow": null,
            "width": null,
            "min_width": null,
            "border": null,
            "align_items": null,
            "bottom": null,
            "_model_module": "@jupyter-widgets/base",
            "top": null,
            "grid_column": null,
            "overflow_y": null,
            "overflow_x": null,
            "grid_auto_flow": null,
            "grid_area": null,
            "grid_template_columns": null,
            "flex": null,
            "_model_name": "LayoutModel",
            "justify_items": null,
            "grid_row": null,
            "max_height": null,
            "align_content": null,
            "visibility": null,
            "align_self": null,
            "height": null,
            "min_height": null,
            "padding": null,
            "grid_auto_rows": null,
            "grid_gap": null,
            "max_width": null,
            "order": null,
            "_view_module_version": "1.2.0",
            "grid_template_areas": null,
            "object_position": null,
            "object_fit": null,
            "grid_auto_columns": null,
            "margin": null,
            "display": null,
            "left": null
          }
        },
        "cc40589c158645a694a1cb44de4f142b": {
          "model_module": "@jupyter-widgets/base",
          "model_name": "LayoutModel",
          "state": {
            "_view_name": "LayoutView",
            "grid_template_rows": null,
            "right": null,
            "justify_content": null,
            "_view_module": "@jupyter-widgets/base",
            "overflow": null,
            "_model_module_version": "1.2.0",
            "_view_count": null,
            "flex_flow": null,
            "width": null,
            "min_width": null,
            "border": null,
            "align_items": null,
            "bottom": null,
            "_model_module": "@jupyter-widgets/base",
            "top": null,
            "grid_column": null,
            "overflow_y": null,
            "overflow_x": null,
            "grid_auto_flow": null,
            "grid_area": null,
            "grid_template_columns": null,
            "flex": null,
            "_model_name": "LayoutModel",
            "justify_items": null,
            "grid_row": null,
            "max_height": null,
            "align_content": null,
            "visibility": null,
            "align_self": null,
            "height": null,
            "min_height": null,
            "padding": null,
            "grid_auto_rows": null,
            "grid_gap": null,
            "max_width": null,
            "order": null,
            "_view_module_version": "1.2.0",
            "grid_template_areas": null,
            "object_position": null,
            "object_fit": null,
            "grid_auto_columns": null,
            "margin": null,
            "display": null,
            "left": null
          }
        },
        "6672efdcaf4b41d88277581f4f29e28c": {
          "model_module": "@jupyter-widgets/controls",
          "model_name": "VBoxModel",
          "state": {
            "_view_name": "VBoxView",
            "_dom_classes": [
              "widget-interact"
            ],
            "_model_name": "VBoxModel",
            "_view_module": "@jupyter-widgets/controls",
            "_model_module_version": "1.5.0",
            "_view_count": null,
            "_view_module_version": "1.5.0",
            "box_style": "",
            "layout": "IPY_MODEL_fe66805f2ef84bf69a1c207fbc17e869",
            "_model_module": "@jupyter-widgets/controls",
            "children": [
              "IPY_MODEL_7f941723bad243b3859eeb492a076496",
              "IPY_MODEL_287136e0b146469aa4dcbdd9901e100d"
            ]
          }
        },
        "fe66805f2ef84bf69a1c207fbc17e869": {
          "model_module": "@jupyter-widgets/base",
          "model_name": "LayoutModel",
          "state": {
            "_view_name": "LayoutView",
            "grid_template_rows": null,
            "right": null,
            "justify_content": null,
            "_view_module": "@jupyter-widgets/base",
            "overflow": null,
            "_model_module_version": "1.2.0",
            "_view_count": null,
            "flex_flow": null,
            "width": null,
            "min_width": null,
            "border": null,
            "align_items": null,
            "bottom": null,
            "_model_module": "@jupyter-widgets/base",
            "top": null,
            "grid_column": null,
            "overflow_y": null,
            "overflow_x": null,
            "grid_auto_flow": null,
            "grid_area": null,
            "grid_template_columns": null,
            "flex": null,
            "_model_name": "LayoutModel",
            "justify_items": null,
            "grid_row": null,
            "max_height": null,
            "align_content": null,
            "visibility": null,
            "align_self": null,
            "height": null,
            "min_height": null,
            "padding": null,
            "grid_auto_rows": null,
            "grid_gap": null,
            "max_width": null,
            "order": null,
            "_view_module_version": "1.2.0",
            "grid_template_areas": null,
            "object_position": null,
            "object_fit": null,
            "grid_auto_columns": null,
            "margin": null,
            "display": null,
            "left": null
          }
        },
        "7f941723bad243b3859eeb492a076496": {
          "model_module": "@jupyter-widgets/controls",
          "model_name": "FloatSliderModel",
          "state": {
            "_view_name": "FloatSliderView",
            "style": "IPY_MODEL_c991b85fff00463fb83106d561ab0ebd",
            "_dom_classes": [],
            "description": "threshold",
            "step": 0.01,
            "_model_name": "FloatSliderModel",
            "orientation": "horizontal",
            "max": 1,
            "_view_module": "@jupyter-widgets/controls",
            "_model_module_version": "1.5.0",
            "value": 0.54,
            "_view_count": null,
            "disabled": false,
            "_view_module_version": "1.5.0",
            "min": 0,
            "continuous_update": true,
            "readout_format": ".2f",
            "description_tooltip": null,
            "readout": true,
            "_model_module": "@jupyter-widgets/controls",
            "layout": "IPY_MODEL_c62568941e4c4fb8b2bf4f657dcf99f1"
          }
        },
        "287136e0b146469aa4dcbdd9901e100d": {
          "model_module": "@jupyter-widgets/output",
          "model_name": "OutputModel",
          "state": {
            "_view_name": "OutputView",
            "msg_id": "",
            "_dom_classes": [],
            "_model_name": "OutputModel",
            "outputs": [
              {
                "output_type": "display_data",
                "metadata": {
                  "tags": [],
                  "needs_background": "light"
                },
                "image/png": "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\n",
                "text/plain": "<Figure size 432x288 with 1 Axes>"
              },
              {
                "output_type": "stream",
                "metadata": {
                  "tags": []
                },
                "text": "              precision    recall  f1-score   support\n\n           0       0.83      0.94      0.88      6416\n           1       0.68      0.39      0.49      2015\n\n    accuracy                           0.81      8431\n   macro avg       0.75      0.67      0.69      8431\nweighted avg       0.79      0.81      0.79      8431\n\n",
                "stream": "stdout"
              }
            ],
            "_view_module": "@jupyter-widgets/output",
            "_model_module_version": "1.0.0",
            "_view_count": null,
            "_view_module_version": "1.0.0",
            "layout": "IPY_MODEL_e2695f0be92e4a058b3d93e8cbe0a4b7",
            "_model_module": "@jupyter-widgets/output"
          }
        },
        "c991b85fff00463fb83106d561ab0ebd": {
          "model_module": "@jupyter-widgets/controls",
          "model_name": "SliderStyleModel",
          "state": {
            "_view_name": "StyleView",
            "handle_color": null,
            "_model_name": "SliderStyleModel",
            "description_width": "",
            "_view_module": "@jupyter-widgets/base",
            "_model_module_version": "1.5.0",
            "_view_count": null,
            "_view_module_version": "1.2.0",
            "_model_module": "@jupyter-widgets/controls"
          }
        },
        "c62568941e4c4fb8b2bf4f657dcf99f1": {
          "model_module": "@jupyter-widgets/base",
          "model_name": "LayoutModel",
          "state": {
            "_view_name": "LayoutView",
            "grid_template_rows": null,
            "right": null,
            "justify_content": null,
            "_view_module": "@jupyter-widgets/base",
            "overflow": null,
            "_model_module_version": "1.2.0",
            "_view_count": null,
            "flex_flow": null,
            "width": null,
            "min_width": null,
            "border": null,
            "align_items": null,
            "bottom": null,
            "_model_module": "@jupyter-widgets/base",
            "top": null,
            "grid_column": null,
            "overflow_y": null,
            "overflow_x": null,
            "grid_auto_flow": null,
            "grid_area": null,
            "grid_template_columns": null,
            "flex": null,
            "_model_name": "LayoutModel",
            "justify_items": null,
            "grid_row": null,
            "max_height": null,
            "align_content": null,
            "visibility": null,
            "align_self": null,
            "height": null,
            "min_height": null,
            "padding": null,
            "grid_auto_rows": null,
            "grid_gap": null,
            "max_width": null,
            "order": null,
            "_view_module_version": "1.2.0",
            "grid_template_areas": null,
            "object_position": null,
            "object_fit": null,
            "grid_auto_columns": null,
            "margin": null,
            "display": null,
            "left": null
          }
        },
        "e2695f0be92e4a058b3d93e8cbe0a4b7": {
          "model_module": "@jupyter-widgets/base",
          "model_name": "LayoutModel",
          "state": {
            "_view_name": "LayoutView",
            "grid_template_rows": null,
            "right": null,
            "justify_content": null,
            "_view_module": "@jupyter-widgets/base",
            "overflow": null,
            "_model_module_version": "1.2.0",
            "_view_count": null,
            "flex_flow": null,
            "width": null,
            "min_width": null,
            "border": null,
            "align_items": null,
            "bottom": null,
            "_model_module": "@jupyter-widgets/base",
            "top": null,
            "grid_column": null,
            "overflow_y": null,
            "overflow_x": null,
            "grid_auto_flow": null,
            "grid_area": null,
            "grid_template_columns": null,
            "flex": null,
            "_model_name": "LayoutModel",
            "justify_items": null,
            "grid_row": null,
            "max_height": null,
            "align_content": null,
            "visibility": null,
            "align_self": null,
            "height": null,
            "min_height": null,
            "padding": null,
            "grid_auto_rows": null,
            "grid_gap": null,
            "max_width": null,
            "order": null,
            "_view_module_version": "1.2.0",
            "grid_template_areas": null,
            "object_position": null,
            "object_fit": null,
            "grid_auto_columns": null,
            "margin": null,
            "display": null,
            "left": null
          }
        },
        "f71d0a1d0d854f4abb7a83b6752e46d4": {
          "model_module": "@jupyter-widgets/controls",
          "model_name": "VBoxModel",
          "state": {
            "_view_name": "VBoxView",
            "_dom_classes": [
              "widget-interact"
            ],
            "_model_name": "VBoxModel",
            "_view_module": "@jupyter-widgets/controls",
            "_model_module_version": "1.5.0",
            "_view_count": null,
            "_view_module_version": "1.5.0",
            "box_style": "",
            "layout": "IPY_MODEL_fd380e6d1667441894686eac1e2473fa",
            "_model_module": "@jupyter-widgets/controls",
            "children": [
              "IPY_MODEL_0c982100a5244e8fad322d1d6a0dfc57",
              "IPY_MODEL_d9e77c06c81f47e695d81162d4734b3e"
            ]
          }
        },
        "fd380e6d1667441894686eac1e2473fa": {
          "model_module": "@jupyter-widgets/base",
          "model_name": "LayoutModel",
          "state": {
            "_view_name": "LayoutView",
            "grid_template_rows": null,
            "right": null,
            "justify_content": null,
            "_view_module": "@jupyter-widgets/base",
            "overflow": null,
            "_model_module_version": "1.2.0",
            "_view_count": null,
            "flex_flow": null,
            "width": null,
            "min_width": null,
            "border": null,
            "align_items": null,
            "bottom": null,
            "_model_module": "@jupyter-widgets/base",
            "top": null,
            "grid_column": null,
            "overflow_y": null,
            "overflow_x": null,
            "grid_auto_flow": null,
            "grid_area": null,
            "grid_template_columns": null,
            "flex": null,
            "_model_name": "LayoutModel",
            "justify_items": null,
            "grid_row": null,
            "max_height": null,
            "align_content": null,
            "visibility": null,
            "align_self": null,
            "height": null,
            "min_height": null,
            "padding": null,
            "grid_auto_rows": null,
            "grid_gap": null,
            "max_width": null,
            "order": null,
            "_view_module_version": "1.2.0",
            "grid_template_areas": null,
            "object_position": null,
            "object_fit": null,
            "grid_auto_columns": null,
            "margin": null,
            "display": null,
            "left": null
          }
        },
        "0c982100a5244e8fad322d1d6a0dfc57": {
          "model_module": "@jupyter-widgets/controls",
          "model_name": "FloatSliderModel",
          "state": {
            "_view_name": "FloatSliderView",
            "style": "IPY_MODEL_7ab851f350394726b0aca30e037a4329",
            "_dom_classes": [],
            "description": "threshold",
            "step": 0.01,
            "_model_name": "FloatSliderModel",
            "orientation": "horizontal",
            "max": 1,
            "_view_module": "@jupyter-widgets/controls",
            "_model_module_version": "1.5.0",
            "value": 0.5,
            "_view_count": null,
            "disabled": false,
            "_view_module_version": "1.5.0",
            "min": 0,
            "continuous_update": true,
            "readout_format": ".2f",
            "description_tooltip": null,
            "readout": true,
            "_model_module": "@jupyter-widgets/controls",
            "layout": "IPY_MODEL_25059d594f604a029a59fefac20fbaa3"
          }
        },
        "d9e77c06c81f47e695d81162d4734b3e": {
          "model_module": "@jupyter-widgets/output",
          "model_name": "OutputModel",
          "state": {
            "_view_name": "OutputView",
            "msg_id": "",
            "_dom_classes": [],
            "_model_name": "OutputModel",
            "outputs": [
              {
                "output_type": "display_data",
                "metadata": {
                  "tags": [],
                  "needs_background": "light"
                },
                "image/png": "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\n",
                "text/plain": "<Figure size 432x288 with 1 Axes>"
              },
              {
                "output_type": "stream",
                "metadata": {
                  "tags": []
                },
                "text": "              precision    recall  f1-score   support\n\n           0       0.85      0.94      0.89      6416\n           1       0.70      0.47      0.56      2015\n\n    accuracy                           0.82      8431\n   macro avg       0.77      0.70      0.73      8431\nweighted avg       0.81      0.82      0.81      8431\n\n",
                "stream": "stdout"
              }
            ],
            "_view_module": "@jupyter-widgets/output",
            "_model_module_version": "1.0.0",
            "_view_count": null,
            "_view_module_version": "1.0.0",
            "layout": "IPY_MODEL_526ad12fed62422d877c4b86e18c9b48",
            "_model_module": "@jupyter-widgets/output"
          }
        },
        "7ab851f350394726b0aca30e037a4329": {
          "model_module": "@jupyter-widgets/controls",
          "model_name": "SliderStyleModel",
          "state": {
            "_view_name": "StyleView",
            "handle_color": null,
            "_model_name": "SliderStyleModel",
            "description_width": "",
            "_view_module": "@jupyter-widgets/base",
            "_model_module_version": "1.5.0",
            "_view_count": null,
            "_view_module_version": "1.2.0",
            "_model_module": "@jupyter-widgets/controls"
          }
        },
        "25059d594f604a029a59fefac20fbaa3": {
          "model_module": "@jupyter-widgets/base",
          "model_name": "LayoutModel",
          "state": {
            "_view_name": "LayoutView",
            "grid_template_rows": null,
            "right": null,
            "justify_content": null,
            "_view_module": "@jupyter-widgets/base",
            "overflow": null,
            "_model_module_version": "1.2.0",
            "_view_count": null,
            "flex_flow": null,
            "width": null,
            "min_width": null,
            "border": null,
            "align_items": null,
            "bottom": null,
            "_model_module": "@jupyter-widgets/base",
            "top": null,
            "grid_column": null,
            "overflow_y": null,
            "overflow_x": null,
            "grid_auto_flow": null,
            "grid_area": null,
            "grid_template_columns": null,
            "flex": null,
            "_model_name": "LayoutModel",
            "justify_items": null,
            "grid_row": null,
            "max_height": null,
            "align_content": null,
            "visibility": null,
            "align_self": null,
            "height": null,
            "min_height": null,
            "padding": null,
            "grid_auto_rows": null,
            "grid_gap": null,
            "max_width": null,
            "order": null,
            "_view_module_version": "1.2.0",
            "grid_template_areas": null,
            "object_position": null,
            "object_fit": null,
            "grid_auto_columns": null,
            "margin": null,
            "display": null,
            "left": null
          }
        },
        "526ad12fed62422d877c4b86e18c9b48": {
          "model_module": "@jupyter-widgets/base",
          "model_name": "LayoutModel",
          "state": {
            "_view_name": "LayoutView",
            "grid_template_rows": null,
            "right": null,
            "justify_content": null,
            "_view_module": "@jupyter-widgets/base",
            "overflow": null,
            "_model_module_version": "1.2.0",
            "_view_count": null,
            "flex_flow": null,
            "width": null,
            "min_width": null,
            "border": null,
            "align_items": null,
            "bottom": null,
            "_model_module": "@jupyter-widgets/base",
            "top": null,
            "grid_column": null,
            "overflow_y": null,
            "overflow_x": null,
            "grid_auto_flow": null,
            "grid_area": null,
            "grid_template_columns": null,
            "flex": null,
            "_model_name": "LayoutModel",
            "justify_items": null,
            "grid_row": null,
            "max_height": null,
            "align_content": null,
            "visibility": null,
            "align_self": null,
            "height": null,
            "min_height": null,
            "padding": null,
            "grid_auto_rows": null,
            "grid_gap": null,
            "max_width": null,
            "order": null,
            "_view_module_version": "1.2.0",
            "grid_template_areas": null,
            "object_position": null,
            "object_fit": null,
            "grid_auto_columns": null,
            "margin": null,
            "display": null,
            "left": null
          }
        }
      }
    }
  },
  "cells": [
    {
      "cell_type": "markdown",
      "metadata": {
        "id": "sMyvLuuJ7Her"
      },
      "source": [
        "<img align=\"right\" src=\"https://ds-cs-images.s3.ap-northeast-2.amazonaws.com/Codestates_Fulllogo_Color.png\" width=100>\n",
        "\n",
        "## *DATA SCIENCE / SECTION 2 / SPRINT 2 / NOTE 3*\n",
        "\n",
        "# 📝 Assignment\n",
        "---"
      ]
    },
    {
      "cell_type": "markdown",
      "metadata": {
        "id": "nCc3XZEyG3XV"
      },
      "source": [
        "# Evaluation Metrics for Classification\n",
        "\n",
        "### 1) Kaggle 챌린지를 이어서 진행합니다.\n",
        "- **다음 조건에서 F beta score를 구하고 과제 제출폼에 제출하세요.**\n",
        "    - TP = 4442, TN = 6165, FP = 1515, FN = 1930, 재현율에 정밀도의 2배 가중치를 부여합니다."
      ]
    },
    {
      "cell_type": "code",
      "metadata": {
        "colab": {
          "base_uri": "https://localhost:8080/"
        },
        "id": "NGs62djG7s5L",
        "outputId": "d80e104d-8afe-423a-d938-f46efc8bfe76"
      },
      "source": [
        "import pandas as pd\n",
        "from sklearn.model_selection import train_test_split\n",
        "\n",
        "target = 'vacc_h1n1_f'\n",
        "train = pd.merge(pd.read_csv('/content/train.csv'), pd.read_csv('/content/train_labels.csv')[target], left_index=True, right_index=True)\n",
        "test = pd.read_csv('/content/test.csv')\n",
        "sample_submission= pd.read_csv('/content/submission.csv')\n",
        "\n",
        "train , val = train_test_split(train, train_size= 0.80, test_size = 0.20, stratify=train[target], random_state=2)\n",
        "train.shape, val.shape, test.shape"
      ],
      "execution_count": null,
      "outputs": [
        {
          "output_type": "execute_result",
          "data": {
            "text/plain": [
              "((33723, 39), (8431, 39), (28104, 38))"
            ]
          },
          "metadata": {
            "tags": []
          },
          "execution_count": 68
        }
      ]
    },
    {
      "cell_type": "code",
      "metadata": {
        "colab": {
          "base_uri": "https://localhost:8080/"
        },
        "id": "BsNtulZ07syJ",
        "outputId": "9965d135-b699-4d6b-86bc-e0b868e31ed7"
      },
      "source": [
        "train[target].value_counts(normalize=True)"
      ],
      "execution_count": null,
      "outputs": [
        {
          "output_type": "execute_result",
          "data": {
            "text/plain": [
              "0    0.760935\n",
              "1    0.239065\n",
              "Name: vacc_h1n1_f, dtype: float64"
            ]
          },
          "metadata": {
            "tags": []
          },
          "execution_count": 69
        }
      ]
    },
    {
      "cell_type": "code",
      "metadata": {
        "colab": {
          "base_uri": "https://localhost:8080/"
        },
        "id": "iavcMUCn7srZ",
        "outputId": "deca0212-dad2-414d-bf1f-1827e81d1af2"
      },
      "source": [
        "from sklearn.metrics import accuracy_score\n",
        "\n",
        "y_train = train[target]\n",
        "major = y_train.mode()[0]\n",
        "y_predic = [major] * len(y_train)\n",
        "\n",
        "print('train accuracy :', accuracy_score(y_train,y_predic))"
      ],
      "execution_count": null,
      "outputs": [
        {
          "output_type": "stream",
          "text": [
            "train accuracy : 0.7609346736648578\n"
          ],
          "name": "stdout"
        }
      ]
    },
    {
      "cell_type": "code",
      "metadata": {
        "colab": {
          "base_uri": "https://localhost:8080/",
          "height": 227
        },
        "id": "sz0V0yPQ7sjb",
        "outputId": "75c66f5c-f5a0-4ac4-c033-17753d28963e"
      },
      "source": [
        "train.describe(exclude='number') #범주형 데이터 확인\n",
        "\n",
        "#\topinion_h1n1_vacc_effective,\topinion_h1n1_risk,\topinion_h1n1_sick_from_vacc,\topinion_seas_vacc_effective,\topinion_seas_risk,\topinion_seas_sick_from_vacc, \n",
        "#agegrp,\temployment_status,\tcensus_msa,\temployment_industry,\temployment_occupation,\tstate"
      ],
      "execution_count": null,
      "outputs": [
        {
          "output_type": "execute_result",
          "data": {
            "text/html": [
              "<div>\n",
              "<style scoped>\n",
              "    .dataframe tbody tr th:only-of-type {\n",
              "        vertical-align: middle;\n",
              "    }\n",
              "\n",
              "    .dataframe tbody tr th {\n",
              "        vertical-align: top;\n",
              "    }\n",
              "\n",
              "    .dataframe thead th {\n",
              "        text-align: right;\n",
              "    }\n",
              "</style>\n",
              "<table border=\"1\" class=\"dataframe\">\n",
              "  <thead>\n",
              "    <tr style=\"text-align: right;\">\n",
              "      <th></th>\n",
              "      <th>opinion_h1n1_vacc_effective</th>\n",
              "      <th>opinion_h1n1_risk</th>\n",
              "      <th>opinion_h1n1_sick_from_vacc</th>\n",
              "      <th>opinion_seas_vacc_effective</th>\n",
              "      <th>opinion_seas_risk</th>\n",
              "      <th>opinion_seas_sick_from_vacc</th>\n",
              "      <th>agegrp</th>\n",
              "      <th>employment_status</th>\n",
              "      <th>census_msa</th>\n",
              "      <th>employment_industry</th>\n",
              "      <th>employment_occupation</th>\n",
              "      <th>state</th>\n",
              "    </tr>\n",
              "  </thead>\n",
              "  <tbody>\n",
              "    <tr>\n",
              "      <th>count</th>\n",
              "      <td>26637</td>\n",
              "      <td>26602</td>\n",
              "      <td>26568</td>\n",
              "      <td>26519</td>\n",
              "      <td>26466</td>\n",
              "      <td>26413</td>\n",
              "      <td>33723</td>\n",
              "      <td>25466</td>\n",
              "      <td>33723</td>\n",
              "      <td>13714</td>\n",
              "      <td>13714</td>\n",
              "      <td>33723</td>\n",
              "    </tr>\n",
              "    <tr>\n",
              "      <th>unique</th>\n",
              "      <td>6</td>\n",
              "      <td>6</td>\n",
              "      <td>6</td>\n",
              "      <td>6</td>\n",
              "      <td>6</td>\n",
              "      <td>6</td>\n",
              "      <td>7</td>\n",
              "      <td>3</td>\n",
              "      <td>3</td>\n",
              "      <td>23</td>\n",
              "      <td>25</td>\n",
              "      <td>51</td>\n",
              "    </tr>\n",
              "    <tr>\n",
              "      <th>top</th>\n",
              "      <td>Somewhat Effective</td>\n",
              "      <td>Somewhat Low</td>\n",
              "      <td>Not Very Worried</td>\n",
              "      <td>Somewhat Effective</td>\n",
              "      <td>Somewhat Low</td>\n",
              "      <td>Not At All Worried</td>\n",
              "      <td>65+ Years</td>\n",
              "      <td>Employed</td>\n",
              "      <td>MSA, Not Principle City</td>\n",
              "      <td>Health Care and Social Assistance Industries</td>\n",
              "      <td>Management Occupations</td>\n",
              "      <td>CALIFORNIA</td>\n",
              "    </tr>\n",
              "    <tr>\n",
              "      <th>freq</th>\n",
              "      <td>11710</td>\n",
              "      <td>9980</td>\n",
              "      <td>9229</td>\n",
              "      <td>11571</td>\n",
              "      <td>9057</td>\n",
              "      <td>11813</td>\n",
              "      <td>6821</td>\n",
              "      <td>13722</td>\n",
              "      <td>15202</td>\n",
              "      <td>2451</td>\n",
              "      <td>1769</td>\n",
              "      <td>829</td>\n",
              "    </tr>\n",
              "  </tbody>\n",
              "</table>\n",
              "</div>"
            ],
            "text/plain": [
              "       opinion_h1n1_vacc_effective  ...       state\n",
              "count                        26637  ...       33723\n",
              "unique                           6  ...          51\n",
              "top             Somewhat Effective  ...  CALIFORNIA\n",
              "freq                         11710  ...         829\n",
              "\n",
              "[4 rows x 12 columns]"
            ]
          },
          "metadata": {
            "tags": []
          },
          "execution_count": 71
        }
      ]
    },
    {
      "cell_type": "code",
      "metadata": {
        "colab": {
          "base_uri": "https://localhost:8080/",
          "height": 421
        },
        "id": "oUkf1avR7sGs",
        "outputId": "f185a97b-93c9-4ba8-bba2-4da50857bf3f"
      },
      "source": [
        "train.describe(exclude='number').T.sort_values(by='unique') #카디널리티 확인"
      ],
      "execution_count": null,
      "outputs": [
        {
          "output_type": "execute_result",
          "data": {
            "text/html": [
              "<div>\n",
              "<style scoped>\n",
              "    .dataframe tbody tr th:only-of-type {\n",
              "        vertical-align: middle;\n",
              "    }\n",
              "\n",
              "    .dataframe tbody tr th {\n",
              "        vertical-align: top;\n",
              "    }\n",
              "\n",
              "    .dataframe thead th {\n",
              "        text-align: right;\n",
              "    }\n",
              "</style>\n",
              "<table border=\"1\" class=\"dataframe\">\n",
              "  <thead>\n",
              "    <tr style=\"text-align: right;\">\n",
              "      <th></th>\n",
              "      <th>count</th>\n",
              "      <th>unique</th>\n",
              "      <th>top</th>\n",
              "      <th>freq</th>\n",
              "    </tr>\n",
              "  </thead>\n",
              "  <tbody>\n",
              "    <tr>\n",
              "      <th>employment_status</th>\n",
              "      <td>25466</td>\n",
              "      <td>3</td>\n",
              "      <td>Employed</td>\n",
              "      <td>13722</td>\n",
              "    </tr>\n",
              "    <tr>\n",
              "      <th>census_msa</th>\n",
              "      <td>33723</td>\n",
              "      <td>3</td>\n",
              "      <td>MSA, Not Principle City</td>\n",
              "      <td>15202</td>\n",
              "    </tr>\n",
              "    <tr>\n",
              "      <th>opinion_h1n1_vacc_effective</th>\n",
              "      <td>26637</td>\n",
              "      <td>6</td>\n",
              "      <td>Somewhat Effective</td>\n",
              "      <td>11710</td>\n",
              "    </tr>\n",
              "    <tr>\n",
              "      <th>opinion_h1n1_risk</th>\n",
              "      <td>26602</td>\n",
              "      <td>6</td>\n",
              "      <td>Somewhat Low</td>\n",
              "      <td>9980</td>\n",
              "    </tr>\n",
              "    <tr>\n",
              "      <th>opinion_h1n1_sick_from_vacc</th>\n",
              "      <td>26568</td>\n",
              "      <td>6</td>\n",
              "      <td>Not Very Worried</td>\n",
              "      <td>9229</td>\n",
              "    </tr>\n",
              "    <tr>\n",
              "      <th>opinion_seas_vacc_effective</th>\n",
              "      <td>26519</td>\n",
              "      <td>6</td>\n",
              "      <td>Somewhat Effective</td>\n",
              "      <td>11571</td>\n",
              "    </tr>\n",
              "    <tr>\n",
              "      <th>opinion_seas_risk</th>\n",
              "      <td>26466</td>\n",
              "      <td>6</td>\n",
              "      <td>Somewhat Low</td>\n",
              "      <td>9057</td>\n",
              "    </tr>\n",
              "    <tr>\n",
              "      <th>opinion_seas_sick_from_vacc</th>\n",
              "      <td>26413</td>\n",
              "      <td>6</td>\n",
              "      <td>Not At All Worried</td>\n",
              "      <td>11813</td>\n",
              "    </tr>\n",
              "    <tr>\n",
              "      <th>agegrp</th>\n",
              "      <td>33723</td>\n",
              "      <td>7</td>\n",
              "      <td>65+ Years</td>\n",
              "      <td>6821</td>\n",
              "    </tr>\n",
              "    <tr>\n",
              "      <th>employment_industry</th>\n",
              "      <td>13714</td>\n",
              "      <td>23</td>\n",
              "      <td>Health Care and Social Assistance Industries</td>\n",
              "      <td>2451</td>\n",
              "    </tr>\n",
              "    <tr>\n",
              "      <th>employment_occupation</th>\n",
              "      <td>13714</td>\n",
              "      <td>25</td>\n",
              "      <td>Management Occupations</td>\n",
              "      <td>1769</td>\n",
              "    </tr>\n",
              "    <tr>\n",
              "      <th>state</th>\n",
              "      <td>33723</td>\n",
              "      <td>51</td>\n",
              "      <td>CALIFORNIA</td>\n",
              "      <td>829</td>\n",
              "    </tr>\n",
              "  </tbody>\n",
              "</table>\n",
              "</div>"
            ],
            "text/plain": [
              "                             count  ...   freq\n",
              "employment_status            25466  ...  13722\n",
              "census_msa                   33723  ...  15202\n",
              "opinion_h1n1_vacc_effective  26637  ...  11710\n",
              "opinion_h1n1_risk            26602  ...   9980\n",
              "opinion_h1n1_sick_from_vacc  26568  ...   9229\n",
              "opinion_seas_vacc_effective  26519  ...  11571\n",
              "opinion_seas_risk            26466  ...   9057\n",
              "opinion_seas_sick_from_vacc  26413  ...  11813\n",
              "agegrp                       33723  ...   6821\n",
              "employment_industry          13714  ...   2451\n",
              "employment_occupation        13714  ...   1769\n",
              "state                        33723  ...    829\n",
              "\n",
              "[12 rows x 4 columns]"
            ]
          },
          "metadata": {
            "tags": []
          },
          "execution_count": 72
        }
      ]
    },
    {
      "cell_type": "code",
      "metadata": {
        "id": "RGDevB1F734B"
      },
      "source": [
        "import numpy as np\n",
        "from sklearn.impute import SimpleImputer\n",
        "\n",
        "def engineer(df):\n",
        "    \"\"\"특성을 엔지니어링 하는 함수입니다.\"\"\"\n",
        "    \n",
        "    # 높은 카디널리티를 가지는 특성을 제거합니다.\n",
        "    selected_cols = df.select_dtypes(include=['number', 'object'])\n",
        "    labels = selected_cols.nunique() # 특성별 카디널리티 리스트\n",
        "    selected_features = labels[labels <= 30].index.tolist() # 카디널리티가 30보다 작은 특성만 선택합니다.\n",
        "    df = df[selected_features]\n",
        "    \n",
        "    # 새로운 특성을 생성합니다.\n",
        "    behaviorals = [col for col in df.columns if 'behavioral' in col] \n",
        "    df['behaviorals'] = df[behaviorals].sum(axis=1)\n",
        "    \n",
        "    \n",
        "    dels = [col for col in df.columns if ('employment' in col or 'seas' in col)]\n",
        "    df.drop(columns=dels, inplace=True) \n",
        "        \n",
        "    return df\n",
        "\n",
        "\n",
        "train = engineer(train)\n",
        "val = engineer(val)\n",
        "test = engineer(test)\n"
      ],
      "execution_count": null,
      "outputs": []
    },
    {
      "cell_type": "code",
      "metadata": {
        "id": "WvyBwow473x3"
      },
      "source": [
        "features = train.drop(columns=[target]).columns\n",
        "\n",
        "X_train = train[features]\n",
        "y_train = train[target]\n",
        "X_val = val[features]\n",
        "y_val = val[target]\n",
        "X_test = test[features]"
      ],
      "execution_count": null,
      "outputs": []
    },
    {
      "cell_type": "code",
      "metadata": {
        "colab": {
          "base_uri": "https://localhost:8080/"
        },
        "id": "8y5QR_VI73rb",
        "outputId": "14ef0465-b544-42a2-a63e-84e759eddc6d"
      },
      "source": [
        "!pip install category_encoders"
      ],
      "execution_count": null,
      "outputs": [
        {
          "output_type": "stream",
          "text": [
            "Requirement already satisfied: category_encoders in /usr/local/lib/python3.7/dist-packages (2.2.2)\n",
            "Requirement already satisfied: scipy>=1.0.0 in /usr/local/lib/python3.7/dist-packages (from category_encoders) (1.4.1)\n",
            "Requirement already satisfied: statsmodels>=0.9.0 in /usr/local/lib/python3.7/dist-packages (from category_encoders) (0.10.2)\n",
            "Requirement already satisfied: patsy>=0.5.1 in /usr/local/lib/python3.7/dist-packages (from category_encoders) (0.5.1)\n",
            "Requirement already satisfied: scikit-learn>=0.20.0 in /usr/local/lib/python3.7/dist-packages (from category_encoders) (0.22.2.post1)\n",
            "Requirement already satisfied: pandas>=0.21.1 in /usr/local/lib/python3.7/dist-packages (from category_encoders) (1.1.5)\n",
            "Requirement already satisfied: numpy>=1.14.0 in /usr/local/lib/python3.7/dist-packages (from category_encoders) (1.19.5)\n",
            "Requirement already satisfied: six in /usr/local/lib/python3.7/dist-packages (from patsy>=0.5.1->category_encoders) (1.15.0)\n",
            "Requirement already satisfied: joblib>=0.11 in /usr/local/lib/python3.7/dist-packages (from scikit-learn>=0.20.0->category_encoders) (1.0.1)\n",
            "Requirement already satisfied: pytz>=2017.2 in /usr/local/lib/python3.7/dist-packages (from pandas>=0.21.1->category_encoders) (2018.9)\n",
            "Requirement already satisfied: python-dateutil>=2.7.3 in /usr/local/lib/python3.7/dist-packages (from pandas>=0.21.1->category_encoders) (2.8.1)\n"
          ],
          "name": "stdout"
        }
      ]
    },
    {
      "cell_type": "code",
      "metadata": {
        "colab": {
          "base_uri": "https://localhost:8080/"
        },
        "id": "ofMSE19p73kV",
        "outputId": "e6e708cf-1f1c-4908-fe9e-0e1ee12480fe"
      },
      "source": [
        "%%time\n",
        "from category_encoders import OneHotEncoder\n",
        "from sklearn.ensemble import RandomForestClassifier\n",
        "from sklearn.impute import SimpleImputer \n",
        "from sklearn.pipeline import make_pipeline\n",
        "from category_encoders import OrdinalEncoder\n",
        "\n",
        "# ordinal encoding\n",
        "pipe = make_pipeline(\n",
        "    OrdinalEncoder(), \n",
        "    SimpleImputer(), \n",
        "    RandomForestClassifier(n_estimators=10, random_state=2, n_jobs=-1)\n",
        ")\n",
        "\n",
        "\n",
        "pipe.fit(X_train, y_train)\n",
        "y_pred = pipe.predict(X_val)\n",
        "print('검증 정확도: ', accuracy_score(y_val, y_pred))"
      ],
      "execution_count": null,
      "outputs": [
        {
          "output_type": "stream",
          "text": [
            "검증 정확도:  0.8089194638832878\n",
            "CPU times: user 869 ms, sys: 43.7 ms, total: 913 ms\n",
            "Wall time: 699 ms\n"
          ],
          "name": "stdout"
        }
      ]
    },
    {
      "cell_type": "code",
      "metadata": {
        "colab": {
          "base_uri": "https://localhost:8080/"
        },
        "id": "Fejcl8WG9Aow",
        "outputId": "86e7bad7-9ac4-47e4-9c93-a364ab0223b2"
      },
      "source": [
        "# 오늘 과제 진행\n",
        "from sklearn.metrics import classification_report\n",
        "print(classification_report(y_val, y_pred))\n"
      ],
      "execution_count": null,
      "outputs": [
        {
          "output_type": "stream",
          "text": [
            "              precision    recall  f1-score   support\n",
            "\n",
            "           0       0.83      0.94      0.88      6416\n",
            "           1       0.67      0.39      0.49      2015\n",
            "\n",
            "    accuracy                           0.81      8431\n",
            "   macro avg       0.75      0.67      0.69      8431\n",
            "weighted avg       0.79      0.81      0.79      8431\n",
            "\n"
          ],
          "name": "stdout"
        }
      ]
    },
    {
      "cell_type": "code",
      "metadata": {
        "colab": {
          "base_uri": "https://localhost:8080/"
        },
        "id": "eVeVHClpGcI2",
        "outputId": "d600d35f-66aa-4a8e-fbaf-962cd110cc6b"
      },
      "source": [
        "pipe.classes_\n",
        "\n",
        "pipe.predict(X_val)\n",
        "\n",
        "\n",
        "pipe.predict_proba(X_val)\n",
        "\n",
        "# 백신접종 확률\n",
        "y_pred_proba = pipe.predict_proba(X_val)[:, 1]\n",
        "y_pred_proba"
      ],
      "execution_count": null,
      "outputs": [
        {
          "output_type": "execute_result",
          "data": {
            "text/plain": [
              "array([0. , 0.1, 0.3, ..., 0.2, 0.1, 0.6])"
            ]
          },
          "metadata": {
            "tags": []
          },
          "execution_count": 79
        }
      ]
    },
    {
      "cell_type": "code",
      "metadata": {
        "colab": {
          "base_uri": "https://localhost:8080/",
          "height": 369
        },
        "id": "vbRwNPW2GjVR",
        "outputId": "ec7da9b3-ee6e-43a4-dab2-8a1a807ce576"
      },
      "source": [
        "import seaborn as sns\n",
        "sns.displot(y_pred_proba);"
      ],
      "execution_count": null,
      "outputs": [
        {
          "output_type": "display_data",
          "data": {
            "image/png": "[encoded data removed]",
            "text/plain": [
              "<Figure size 360x360 with 1 Axes>"
            ]
          },
          "metadata": {
            "tags": [],
            "needs_background": "light"
          }
        }
      ]
    },
    {
      "cell_type": "code",
      "metadata": {
        "colab": {
          "base_uri": "https://localhost:8080/",
          "height": 319
        },
        "id": "_u1LuXfaGn6C",
        "outputId": "215514c0-9931-421f-c9cd-06e8de50a184"
      },
      "source": [
        "# Randomforestclassifier 기본 임계값은 0.5입니다.\n",
        "threshold = 0.5\n",
        "y_pred_proba = pipe.predict_proba(X_val)[:, 1]\n",
        "y_pred = y_pred_proba > threshold\n",
        "\n",
        "ax = sns.histplot(y_pred_proba)\n",
        "ax.axvline(threshold, color='red')\n",
        "\n",
        "pd.Series(y_pred).value_counts()"
      ],
      "execution_count": null,
      "outputs": [
        {
          "output_type": "execute_result",
          "data": {
            "text/plain": [
              "False    7259\n",
              "True     1172\n",
              "dtype: int64"
            ]
          },
          "metadata": {
            "tags": []
          },
          "execution_count": 81
        },
        {
          "output_type": "display_data",
          "data": {
            "image/png": "[encoded data removed]",
            "text/plain": [
              "<Figure size 432x288 with 1 Axes>"
            ]
          },
          "metadata": {
            "tags": [],
            "needs_background": "light"
          }
        }
      ]
    },
    {
      "cell_type": "code",
      "metadata": {
        "colab": {
          "base_uri": "https://localhost:8080/",
          "height": 475,
          "referenced_widgets": [
            "e77fec9c497545d3a8b59a3036eb5169",
            "1ef5d1a363be42b3a8c41e45e974a35b",
            "53284df5747d41caaa9a6642052ed2f4",
            "100d6618f2b14b80a8103662add6fe22",
            "829fd5482bf34b64a15d597cfcf2263a",
            "e569284f163f4bf7941f48b6ef2516ad",
            "cc40589c158645a694a1cb44de4f142b"
          ]
        },
        "id": "Gbebn1XLGvu2",
        "outputId": "bd76626b-a7e9-4041-a0fd-a2fe85b0ce14"
      },
      "source": [
        "from ipywidgets import interact, fixed\n",
        "from sklearn.metrics import plot_confusion_matrix\n",
        "import matplotlib.pyplot as plt\n",
        "def explore_threshold(y_true, y_pred_proba, threshold=0.5):\n",
        "    y_pred = y_pred_proba >= threshold\n",
        "    vc = pd.Series(y_pred).value_counts()\n",
        "    ax = sns.histplot(y_pred_proba, kde=True)\n",
        "    ax.axvline(threshold, color='red')\n",
        "    ax.set_title(f'# of target, 1={vc[1]}, 0={vc[0]}')\n",
        "    plt.show()\n",
        "    print(classification_report(y_true, y_pred))\n",
        "\n",
        "    \n",
        "interact(explore_threshold, \n",
        "    y_true=fixed(y_val), \n",
        "    y_pred_proba=fixed(y_pred_proba), \n",
        "    threshold=(0, 1, 0.01));"
      ],
      "execution_count": null,
      "outputs": [
        {
          "output_type": "display_data",
          "data": {
            "application/vnd.jupyter.widget-view+json": {
              "model_id": "e77fec9c497545d3a8b59a3036eb5169",
              "version_minor": 0,
              "version_major": 2
            },
            "text/plain": [
              "interactive(children=(FloatSlider(value=0.5, description='threshold', max=1.0, step=0.01), Output()), _dom_cla…"
            ]
          },
          "metadata": {
            "tags": []
          }
        }
      ]
    },
    {
      "cell_type": "code",
      "metadata": {
        "id": "V2OpJ9b88I3B"
      },
      "source": [
        "#X_train_final = pd.concat([X_train, X_val], ignore_index=True)\n",
        "#y_train_final = pd.concat([y_train, y_val], ignore_index=True)\n",
        "#pipe.fit(X_train_final, y_train_final)\n",
        "#y_test_pred = pipe_ord.predict(X_test)"
      ],
      "execution_count": null,
      "outputs": []
    },
    {
      "cell_type": "code",
      "metadata": {
        "colab": {
          "base_uri": "https://localhost:8080/"
        },
        "id": "5H6fEgAt8Ooy",
        "outputId": "4f8497bf-2de8-4c50-9552-7bf37dd8e0e2"
      },
      "source": [
        "from sklearn.metrics import f1_score\n",
        "\n",
        "y_val_pred = pipe.predict(X_val)\n",
        "print(f'검증 세트 F2 Score : {f1_score(y_val, y_val_pred)}')  # 기존 :  0.9787127473077886"
      ],
      "execution_count": null,
      "outputs": [
        {
          "output_type": "stream",
          "text": [
            "검증 세트 F2 Score : 0.4945089425792282\n"
          ],
          "name": "stdout"
        }
      ]
    },
    {
      "cell_type": "code",
      "metadata": {
        "colab": {
          "base_uri": "https://localhost:8080/"
        },
        "id": "fDVPA8Y87He1",
        "outputId": "8af17dc7-6644-405b-b92c-7a8402a3aee1"
      },
      "source": [
        "TP = 4442 \n",
        "TN = 6165\n",
        "FP = 1515\n",
        "FN = 1930\n",
        "total = TP + TN + FP + FN\n",
        "\n",
        "# 정밀도\n",
        "positivies = TP + FP\n",
        "precision = TP/positivies\n",
        "print('정밀도 :', precision)\n",
        "\n",
        "# 재현율\n",
        "real_positivies = TP + FN \n",
        "\n",
        "recall = TP/real_positivies\n",
        "print('재현율 :', recall)\n",
        "\n",
        "beta = 2\n",
        "F_beta = (1+beta**2)*((precision*recall)/((beta**2*precision)+recall))\n",
        "F_beta #  1번 0.7063126093178564\""
      ],
      "execution_count": null,
      "outputs": [
        {
          "output_type": "stream",
          "text": [
            "정밀도 : 0.7456773543730065\n",
            "재현율 : 0.697112366603892\n"
          ],
          "name": "stdout"
        },
        {
          "output_type": "execute_result",
          "data": {
            "text/plain": [
              "0.7063126093178564"
            ]
          },
          "metadata": {
            "tags": []
          },
          "execution_count": 87
        }
      ]
    },
    {
      "cell_type": "markdown",
      "metadata": {
        "id": "0X_pgirl7He2"
      },
      "source": [
        "### 2) 모델을 학습한 후 Confusion matrix를 그리고 해석하세요\n",
        "- 임계값을 조정한 후 confusion matrix를 그려보세요\n",
        "- **(객관식) 임계값을 증가시킬때 positive 범주에 대한 재현율의 변화 양상을 과제 제출폼에 제출하세요.**\n",
        "    1. 증가\n",
        "    2. 감소\n",
        "    3. 변화가 없다\n"
      ]
    },
    {
      "cell_type": "code",
      "metadata": {
        "colab": {
          "base_uri": "https://localhost:8080/",
          "height": 319
        },
        "id": "KWJiC5eMQyWu",
        "outputId": "fff9c5f9-c5ee-480f-c441-a290c8ce9cc7"
      },
      "source": [
        "# Randomforestclassifier 기본 임계값은 0.5입니다.\n",
        "threshold = 0.35\n",
        "y_pred_proba = pipe.predict_proba(X_val)[:, 1]\n",
        "y_pred = y_pred_proba > threshold\n",
        "\n",
        "ax = sns.histplot(y_pred_proba)\n",
        "ax.axvline(threshold, color='red')\n",
        "\n",
        "pd.Series(y_pred).value_counts()"
      ],
      "execution_count": null,
      "outputs": [
        {
          "output_type": "execute_result",
          "data": {
            "text/plain": [
              "False    6029\n",
              "True     2402\n",
              "dtype: int64"
            ]
          },
          "metadata": {
            "tags": []
          },
          "execution_count": 88
        },
        {
          "output_type": "display_data",
          "data": {
            "image/png": "[encoded data removed]",
            "text/plain": [
              "<Figure size 432x288 with 1 Axes>"
            ]
          },
          "metadata": {
            "tags": [],
            "needs_background": "light"
          }
        }
      ]
    },
    {
      "cell_type": "code",
      "metadata": {
        "colab": {
          "base_uri": "https://localhost:8080/",
          "height": 475,
          "referenced_widgets": [
            "6672efdcaf4b41d88277581f4f29e28c",
            "fe66805f2ef84bf69a1c207fbc17e869",
            "7f941723bad243b3859eeb492a076496",
            "287136e0b146469aa4dcbdd9901e100d",
            "c991b85fff00463fb83106d561ab0ebd",
            "c62568941e4c4fb8b2bf4f657dcf99f1",
            "e2695f0be92e4a058b3d93e8cbe0a4b7"
          ]
        },
        "id": "xJoEMmZ02bhD",
        "outputId": "e0627308-183d-48ec-cb31-cbd9c9394e2b"
      },
      "source": [
        "from ipywidgets import interact, fixed\n",
        "from sklearn.metrics import plot_confusion_matrix\n",
        "import matplotlib.pyplot as plt\n",
        "def explore_threshold(y_true, y_pred_proba, threshold=0.5):\n",
        "    y_pred = y_pred_proba >= threshold\n",
        "    vc = pd.Series(y_pred).value_counts()\n",
        "    ax = sns.histplot(y_pred_proba, kde=True)\n",
        "    ax.axvline(threshold, color='red')\n",
        "    ax.set_title(f'# of target, 1={vc[1]}, 0={vc[0]}')\n",
        "    plt.show()\n",
        "    print(classification_report(y_true, y_pred))\n",
        "\n",
        "    \n",
        "interact(explore_threshold, \n",
        "    y_true=fixed(y_val), \n",
        "    y_pred_proba=fixed(y_pred_proba), \n",
        "    threshold=(0, 1, 0.01));\n",
        "\n",
        "#재현율은 임계값이 증가할수록 떨어진다    "
      ],
      "execution_count": null,
      "outputs": [
        {
          "output_type": "display_data",
          "data": {
            "application/vnd.jupyter.widget-view+json": {
              "model_id": "6672efdcaf4b41d88277581f4f29e28c",
              "version_minor": 0,
              "version_major": 2
            },
            "text/plain": [
              "interactive(children=(FloatSlider(value=0.5, description='threshold', max=1.0, step=0.01), Output()), _dom_cla…"
            ]
          },
          "metadata": {
            "tags": []
          }
        }
      ]
    },
    {
      "cell_type": "code",
      "metadata": {
        "colab": {
          "base_uri": "https://localhost:8080/",
          "height": 297
        },
        "id": "STROmelt7He2",
        "outputId": "00efc557-170a-49bc-d968-235db0aa6c0f"
      },
      "source": [
        "from sklearn.metrics import plot_confusion_matrix\n",
        "import matplotlib.pyplot as plt\n",
        "\n",
        "fig, ax = plt.subplots()\n",
        "pcm = plot_confusion_matrix(pipe, X_val, y_val,\n",
        "                            cmap=plt.cm.Blues,\n",
        "                            ax=ax);\n",
        "plt.title(f'Confusion matrix, n = {len(y_val)}', fontsize=15)\n",
        "plt.show()"
      ],
      "execution_count": null,
      "outputs": [
        {
          "output_type": "display_data",
          "data": {
            "image/png": "[encoded data removed]",
            "text/plain": [
              "<Figure size 432x288 with 2 Axes>"
            ]
          },
          "metadata": {
            "tags": [],
            "needs_background": "light"
          }
        }
      ]
    },
    {
      "cell_type": "markdown",
      "metadata": {
        "id": "gWdX1hSh7He2"
      },
      "source": [
        "### 3) 랜덤포레스트의 n_estimator를 1, 10, 100, 1000으로 바꾸어 가며 positive 범주의 predict_proba를 비교해 보세요\n",
        "- 파라미터는 다음과 같이 설정합니다.\n",
        "    - n_jobs=-1, random_state=10, max_depth=None, n_estimators = n\n",
        "- **(객관식) 확률값들의 분포(종류)의 변화를 과제 제출폼에 제출하세요**\n",
        "    1. 다양해진다\n",
        "    2. 변화가없다\n"
      ]
    },
    {
      "cell_type": "code",
      "metadata": {
        "colab": {
          "base_uri": "https://localhost:8080/"
        },
        "id": "KdRCvpPa7He2",
        "outputId": "770b6d8c-8113-40e4-e62d-6edb15dd7952"
      },
      "source": [
        "# ordinal encoding\n",
        "pipe1 = make_pipeline(\n",
        "    OrdinalEncoder(), \n",
        "    SimpleImputer(), \n",
        "    RandomForestClassifier(n_jobs=-1, random_state=10, max_depth=None, n_estimators = 100)\n",
        ")\n",
        "\n",
        "\n",
        "pipe1.fit(X_train, y_train)\n",
        "y_pred = pipe1.predict(X_val)\n",
        "print('검증 정확도: ', accuracy_score(y_val, y_pred))"
      ],
      "execution_count": null,
      "outputs": [
        {
          "output_type": "stream",
          "text": [
            "검증 정확도:  0.8239829201755426\n"
          ],
          "name": "stdout"
        }
      ]
    },
    {
      "cell_type": "code",
      "metadata": {
        "colab": {
          "base_uri": "https://localhost:8080/"
        },
        "id": "pgxQa2lw4MLU",
        "outputId": "d8abbd4e-8f84-49e9-bdea-bdccd8a45d05"
      },
      "source": [
        "y_pred_proba = pipe1.predict_proba(X_val)[:, 1]\n",
        "y_pred_proba"
      ],
      "execution_count": null,
      "outputs": [
        {
          "output_type": "execute_result",
          "data": {
            "text/plain": [
              "array([0.036 , 0.08  , 0.4175, ..., 0.09  , 0.03  , 0.5   ])"
            ]
          },
          "metadata": {
            "tags": []
          },
          "execution_count": 97
        }
      ]
    },
    {
      "cell_type": "code",
      "metadata": {
        "colab": {
          "base_uri": "https://localhost:8080/",
          "height": 475,
          "referenced_widgets": [
            "f71d0a1d0d854f4abb7a83b6752e46d4",
            "fd380e6d1667441894686eac1e2473fa",
            "0c982100a5244e8fad322d1d6a0dfc57",
            "d9e77c06c81f47e695d81162d4734b3e",
            "7ab851f350394726b0aca30e037a4329",
            "25059d594f604a029a59fefac20fbaa3",
            "526ad12fed62422d877c4b86e18c9b48"
          ]
        },
        "id": "3vH0GTUM6ImB",
        "outputId": "ebc29b44-be0e-4094-aa5c-9a93ed08f71e"
      },
      "source": [
        "\n",
        "from ipywidgets import interact, fixed\n",
        "\n",
        "def explore_threshold(y_true, y_pred_proba, threshold=0.5):\n",
        "    y_pred = y_pred_proba >= threshold\n",
        "    vc = pd.Series(y_pred).value_counts()\n",
        "    ax = sns.histplot(y_pred_proba, kde=True)\n",
        "    ax.axvline(threshold, color='red')\n",
        "    ax.set_title(f'# of target, 1={vc[1]}, 0={vc[0]}')\n",
        "    plt.show()\n",
        "    print(classification_report(y_true, y_pred))\n",
        "\n",
        "    \n",
        "interact(explore_threshold, \n",
        "    y_true=fixed(y_val), \n",
        "    y_pred_proba=fixed(y_pred_proba), \n",
        "    threshold=(0, 1, 0.01));"
      ],
      "execution_count": null,
      "outputs": [
        {
          "output_type": "display_data",
          "data": {
            "application/vnd.jupyter.widget-view+json": {
              "model_id": "f71d0a1d0d854f4abb7a83b6752e46d4",
              "version_minor": 0,
              "version_major": 2
            },
            "text/plain": [
              "interactive(children=(FloatSlider(value=0.5, description='threshold', max=1.0, step=0.01), Output()), _dom_cla…"
            ]
          },
          "metadata": {
            "tags": []
          }
        }
      ]
    },
    {
      "cell_type": "code",
      "metadata": {
        "id": "XgMdfrhY6Q4v"
      },
      "source": [
        "#달라진다"
      ],
      "execution_count": null,
      "outputs": []
    },
    {
      "cell_type": "markdown",
      "metadata": {
        "id": "0d5Pr0Hy7He3"
      },
      "source": [
        "### 4) 두개 이상의 다른 분류 모델을 학습시켜 ROC curve, AUC 점수를 비교하고 설명합니다.\n",
        "- 더 좋은 결과가 나오는 모델을 사용해서 캐글에 제출하세요\n",
        "- **캐글 Leaderboard의 본인 Score를 과제 제출폼에 제출하세요.**"
      ]
    },
    {
      "cell_type": "code",
      "metadata": {
        "id": "JqnygVja7He3"
      },
      "source": [
        "### 이곳에서 과제를 진행해 주세요 ### "
      ],
      "execution_count": null,
      "outputs": []
    },
    {
      "cell_type": "markdown",
      "metadata": {
        "id": "6kPW6_rw7He3"
      },
      "source": [
        "## 🔥 도전과제"
      ]
    },
    {
      "cell_type": "markdown",
      "metadata": {
        "id": "XsoQzLLv7He3"
      },
      "source": [
        "### 5) 각 평가지표에 대해 결과를 최대한 분석하고 무엇이 부족한지, 어떤 방향으로 성능을 높여야 하는지 논하세요."
      ]
    },
    {
      "cell_type": "code",
      "metadata": {
        "id": "i2I_WZvV7He3"
      },
      "source": [
        "### 이곳에서 과제를 진행해 주세요 ### "
      ],
      "execution_count": null,
      "outputs": []
    }
  ]
}