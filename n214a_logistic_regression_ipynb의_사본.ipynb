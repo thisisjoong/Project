{
  "nbformat": 4,
  "nbformat_minor": 0,
  "metadata": {
    "kernelspec": {
      "display_name": "Python 3",
      "language": "python",
      "name": "python3"
    },
    "language_info": {
      "codemirror_mode": {
        "name": "ipython",
        "version": 3
      },
      "file_extension": ".py",
      "mimetype": "text/x-python",
      "name": "python",
      "nbconvert_exporter": "python",
      "pygments_lexer": "ipython3",
      "version": "3.7.7"
    },
    "colab": {
      "name": "n214a-logistic-regression.ipynb의 사본",
      "provenance": []
    }
  },
  "cells": [
    {
      "cell_type": "markdown",
      "metadata": {
        "id": "UkcQMj1N4Wpl"
      },
      "source": [
        "<img align=\"right\" src=\"https://ds-cs-images.s3.ap-northeast-2.amazonaws.com/Codestates_Fulllogo_Color.png\" width=100>\n",
        "\n",
        "## *DATA SCIENCE / SECTION 2 / SPRINT 1 / NOTE 4*\n",
        "\n",
        "# 📝 Assignment\n",
        "---"
      ]
    },
    {
      "cell_type": "markdown",
      "metadata": {
        "id": "7IXUfiQ2UKj6"
      },
      "source": [
        "# Logistic Regression\n",
        "\n",
        "이번에는 [**Cardiovascular Disease dataset**](https://www.kaggle.com/sulianova/cardiovascular-disease-dataset) 데이터셋을 사용해 봅시다. 데이터에 대한 설명을 캐글 페이지에서 잘 살펴보시고 과제를 진행해 주세요!"
      ]
    },
    {
      "cell_type": "markdown",
      "metadata": {
        "id": "9DojITz24Wpu"
      },
      "source": [
        "### 1) 데이터를 전처리 하겠습니다.\n",
        "- 데이터를 불러오세요.(read_csv 사용)\n",
        "- id 칼럼은 drop하세요.\n",
        "- missing value를 확인하세요.\n",
        "- 중복된 샘플이 있는지 확인하세요.\n",
        "- **중복된 샘플을 제거하고 남은 샘플의 수를 과제 제출폼에 제출하세요.**"
      ]
    },
    {
      "cell_type": "code",
      "metadata": {
        "id": "unPYIRPk4Wpv",
        "colab": {
          "base_uri": "https://localhost:8080/",
          "height": 218
        },
        "outputId": "5952a60e-4a58-41d0-c674-0dda2d2a895f"
      },
      "source": [
        "import pandas as pd\n",
        "df = pd.read_csv('https://ds-lecture-data.s3.ap-northeast-2.amazonaws.com/cardio/cardio_train.csv', sep=';')\n",
        "\n",
        "df.head()"
      ],
      "execution_count": null,
      "outputs": [
        {
          "output_type": "execute_result",
          "data": {
            "text/html": [
              "<div>\n",
              "<style scoped>\n",
              "    .dataframe tbody tr th:only-of-type {\n",
              "        vertical-align: middle;\n",
              "    }\n",
              "\n",
              "    .dataframe tbody tr th {\n",
              "        vertical-align: top;\n",
              "    }\n",
              "\n",
              "    .dataframe thead th {\n",
              "        text-align: right;\n",
              "    }\n",
              "</style>\n",
              "<table border=\"1\" class=\"dataframe\">\n",
              "  <thead>\n",
              "    <tr style=\"text-align: right;\">\n",
              "      <th></th>\n",
              "      <th>id</th>\n",
              "      <th>age</th>\n",
              "      <th>gender</th>\n",
              "      <th>height</th>\n",
              "      <th>weight</th>\n",
              "      <th>ap_hi</th>\n",
              "      <th>ap_lo</th>\n",
              "      <th>cholesterol</th>\n",
              "      <th>gluc</th>\n",
              "      <th>smoke</th>\n",
              "      <th>alco</th>\n",
              "      <th>active</th>\n",
              "      <th>cardio</th>\n",
              "    </tr>\n",
              "  </thead>\n",
              "  <tbody>\n",
              "    <tr>\n",
              "      <th>0</th>\n",
              "      <td>0</td>\n",
              "      <td>18393</td>\n",
              "      <td>2</td>\n",
              "      <td>168</td>\n",
              "      <td>62.0</td>\n",
              "      <td>110</td>\n",
              "      <td>80</td>\n",
              "      <td>1</td>\n",
              "      <td>1</td>\n",
              "      <td>0</td>\n",
              "      <td>0</td>\n",
              "      <td>1</td>\n",
              "      <td>0</td>\n",
              "    </tr>\n",
              "    <tr>\n",
              "      <th>1</th>\n",
              "      <td>1</td>\n",
              "      <td>20228</td>\n",
              "      <td>1</td>\n",
              "      <td>156</td>\n",
              "      <td>85.0</td>\n",
              "      <td>140</td>\n",
              "      <td>90</td>\n",
              "      <td>3</td>\n",
              "      <td>1</td>\n",
              "      <td>0</td>\n",
              "      <td>0</td>\n",
              "      <td>1</td>\n",
              "      <td>1</td>\n",
              "    </tr>\n",
              "    <tr>\n",
              "      <th>2</th>\n",
              "      <td>2</td>\n",
              "      <td>18857</td>\n",
              "      <td>1</td>\n",
              "      <td>165</td>\n",
              "      <td>64.0</td>\n",
              "      <td>130</td>\n",
              "      <td>70</td>\n",
              "      <td>3</td>\n",
              "      <td>1</td>\n",
              "      <td>0</td>\n",
              "      <td>0</td>\n",
              "      <td>0</td>\n",
              "      <td>1</td>\n",
              "    </tr>\n",
              "    <tr>\n",
              "      <th>3</th>\n",
              "      <td>3</td>\n",
              "      <td>17623</td>\n",
              "      <td>2</td>\n",
              "      <td>169</td>\n",
              "      <td>82.0</td>\n",
              "      <td>150</td>\n",
              "      <td>100</td>\n",
              "      <td>1</td>\n",
              "      <td>1</td>\n",
              "      <td>0</td>\n",
              "      <td>0</td>\n",
              "      <td>1</td>\n",
              "      <td>1</td>\n",
              "    </tr>\n",
              "    <tr>\n",
              "      <th>4</th>\n",
              "      <td>4</td>\n",
              "      <td>17474</td>\n",
              "      <td>1</td>\n",
              "      <td>156</td>\n",
              "      <td>56.0</td>\n",
              "      <td>100</td>\n",
              "      <td>60</td>\n",
              "      <td>1</td>\n",
              "      <td>1</td>\n",
              "      <td>0</td>\n",
              "      <td>0</td>\n",
              "      <td>0</td>\n",
              "      <td>0</td>\n",
              "    </tr>\n",
              "  </tbody>\n",
              "</table>\n",
              "</div>"
            ],
            "text/plain": [
              "   id    age  gender  height  weight  ...  gluc  smoke  alco  active  cardio\n",
              "0   0  18393       2     168    62.0  ...     1      0     0       1       0\n",
              "1   1  20228       1     156    85.0  ...     1      0     0       1       1\n",
              "2   2  18857       1     165    64.0  ...     1      0     0       0       1\n",
              "3   3  17623       2     169    82.0  ...     1      0     0       1       1\n",
              "4   4  17474       1     156    56.0  ...     1      0     0       0       0\n",
              "\n",
              "[5 rows x 13 columns]"
            ]
          },
          "metadata": {
            "tags": []
          },
          "execution_count": 249
        }
      ]
    },
    {
      "cell_type": "code",
      "metadata": {
        "id": "QHfP0oje4Wpv",
        "colab": {
          "base_uri": "https://localhost:8080/"
        },
        "outputId": "5c91907e-dd9b-4904-e3d2-382746499db2"
      },
      "source": [
        "import pandas as pd\n",
        "df = pd.read_csv('https://ds-lecture-data.s3.ap-northeast-2.amazonaws.com/cardio/cardio_train.csv', sep=';')\n",
        "\n",
        "df= df.drop(columns= 'id')\n",
        "df.isnull().sum(axis = 1) #missing value = 0\n",
        "\n",
        "df.duplicated()\n",
        "df = df.drop_duplicates()\n",
        "\n",
        "df.shape  #(69976, 12)"
      ],
      "execution_count": null,
      "outputs": [
        {
          "output_type": "execute_result",
          "data": {
            "text/plain": [
              "(69976, 12)"
            ]
          },
          "metadata": {
            "tags": []
          },
          "execution_count": 265
        }
      ]
    },
    {
      "cell_type": "markdown",
      "metadata": {
        "id": "wP5VOFCZ4Wpw"
      },
      "source": [
        "### 2) 다운로드 한 훈련 데이터를 훈련/검증/테스트 세트로 나누어 주세요.\n",
        "- 타겟 특성을 확인하고 타겟 변수를 나누어 줍니다.\n",
        "- 훈련과 테스트 데이터로 나누어 줍니다(train_test_split 사용, train/test = 80/20, random_state=2)\n",
        "- 훈련데이터를 훈련과 검증데이터로 나누어 줍니다(train_test_split 사용, train/validation = 80/20, random_state=2)\n",
        "- **검증 데이터(X_val)의 갯수를 과제 제출폼에 제출하세요.**"
      ]
    },
    {
      "cell_type": "code",
      "metadata": {
        "id": "m5TwUaHa4Wpw",
        "colab": {
          "base_uri": "https://localhost:8080/",
          "height": 407
        },
        "outputId": "5e31d173-6bfb-4540-db9d-b6a3ca872662"
      },
      "source": [
        "from sklearn.model_selection import train_test_split\n",
        "#target\n",
        "target = 'cardio'\n",
        "features = ['age'\t,'gender'\t,'height'\t,'weight'\t,'ap_hi'\t,'ap_lo'\t,'cholesterol',\t'gluc',\t'smoke',\t'alco',\t'active']\n",
        "X= df[features]\n",
        "y= df[target]\n",
        "\n",
        "\n",
        "\n",
        "X_train, X_test, y_train, y_test = train_test_split(X, y, test_size=0.2, random_state=2)\n",
        "X_train, X_val, y_train, y_val = train_test_split(X_train, y_train, train_size=0.8, random_state=2)\n",
        "X_val"
      ],
      "execution_count": null,
      "outputs": [
        {
          "output_type": "execute_result",
          "data": {
            "text/html": [
              "<div>\n",
              "<style scoped>\n",
              "    .dataframe tbody tr th:only-of-type {\n",
              "        vertical-align: middle;\n",
              "    }\n",
              "\n",
              "    .dataframe tbody tr th {\n",
              "        vertical-align: top;\n",
              "    }\n",
              "\n",
              "    .dataframe thead th {\n",
              "        text-align: right;\n",
              "    }\n",
              "</style>\n",
              "<table border=\"1\" class=\"dataframe\">\n",
              "  <thead>\n",
              "    <tr style=\"text-align: right;\">\n",
              "      <th></th>\n",
              "      <th>age</th>\n",
              "      <th>gender</th>\n",
              "      <th>height</th>\n",
              "      <th>weight</th>\n",
              "      <th>ap_hi</th>\n",
              "      <th>ap_lo</th>\n",
              "      <th>cholesterol</th>\n",
              "      <th>gluc</th>\n",
              "      <th>smoke</th>\n",
              "      <th>alco</th>\n",
              "      <th>active</th>\n",
              "    </tr>\n",
              "  </thead>\n",
              "  <tbody>\n",
              "    <tr>\n",
              "      <th>36174</th>\n",
              "      <td>20787</td>\n",
              "      <td>1</td>\n",
              "      <td>168</td>\n",
              "      <td>67.0</td>\n",
              "      <td>120</td>\n",
              "      <td>80</td>\n",
              "      <td>3</td>\n",
              "      <td>3</td>\n",
              "      <td>0</td>\n",
              "      <td>0</td>\n",
              "      <td>1</td>\n",
              "    </tr>\n",
              "    <tr>\n",
              "      <th>4101</th>\n",
              "      <td>20578</td>\n",
              "      <td>2</td>\n",
              "      <td>176</td>\n",
              "      <td>80.0</td>\n",
              "      <td>160</td>\n",
              "      <td>80</td>\n",
              "      <td>1</td>\n",
              "      <td>1</td>\n",
              "      <td>1</td>\n",
              "      <td>1</td>\n",
              "      <td>1</td>\n",
              "    </tr>\n",
              "    <tr>\n",
              "      <th>19924</th>\n",
              "      <td>18368</td>\n",
              "      <td>2</td>\n",
              "      <td>174</td>\n",
              "      <td>78.0</td>\n",
              "      <td>120</td>\n",
              "      <td>80</td>\n",
              "      <td>2</td>\n",
              "      <td>1</td>\n",
              "      <td>0</td>\n",
              "      <td>0</td>\n",
              "      <td>1</td>\n",
              "    </tr>\n",
              "    <tr>\n",
              "      <th>41995</th>\n",
              "      <td>17415</td>\n",
              "      <td>2</td>\n",
              "      <td>177</td>\n",
              "      <td>62.0</td>\n",
              "      <td>120</td>\n",
              "      <td>80</td>\n",
              "      <td>1</td>\n",
              "      <td>1</td>\n",
              "      <td>1</td>\n",
              "      <td>0</td>\n",
              "      <td>1</td>\n",
              "    </tr>\n",
              "    <tr>\n",
              "      <th>39939</th>\n",
              "      <td>23303</td>\n",
              "      <td>2</td>\n",
              "      <td>168</td>\n",
              "      <td>98.0</td>\n",
              "      <td>140</td>\n",
              "      <td>90</td>\n",
              "      <td>3</td>\n",
              "      <td>3</td>\n",
              "      <td>1</td>\n",
              "      <td>0</td>\n",
              "      <td>1</td>\n",
              "    </tr>\n",
              "    <tr>\n",
              "      <th>...</th>\n",
              "      <td>...</td>\n",
              "      <td>...</td>\n",
              "      <td>...</td>\n",
              "      <td>...</td>\n",
              "      <td>...</td>\n",
              "      <td>...</td>\n",
              "      <td>...</td>\n",
              "      <td>...</td>\n",
              "      <td>...</td>\n",
              "      <td>...</td>\n",
              "      <td>...</td>\n",
              "    </tr>\n",
              "    <tr>\n",
              "      <th>67206</th>\n",
              "      <td>16823</td>\n",
              "      <td>1</td>\n",
              "      <td>155</td>\n",
              "      <td>63.0</td>\n",
              "      <td>120</td>\n",
              "      <td>80</td>\n",
              "      <td>1</td>\n",
              "      <td>1</td>\n",
              "      <td>0</td>\n",
              "      <td>0</td>\n",
              "      <td>0</td>\n",
              "    </tr>\n",
              "    <tr>\n",
              "      <th>25036</th>\n",
              "      <td>22517</td>\n",
              "      <td>1</td>\n",
              "      <td>141</td>\n",
              "      <td>60.0</td>\n",
              "      <td>150</td>\n",
              "      <td>100</td>\n",
              "      <td>3</td>\n",
              "      <td>3</td>\n",
              "      <td>0</td>\n",
              "      <td>0</td>\n",
              "      <td>0</td>\n",
              "    </tr>\n",
              "    <tr>\n",
              "      <th>12153</th>\n",
              "      <td>15245</td>\n",
              "      <td>2</td>\n",
              "      <td>165</td>\n",
              "      <td>64.0</td>\n",
              "      <td>120</td>\n",
              "      <td>80</td>\n",
              "      <td>1</td>\n",
              "      <td>1</td>\n",
              "      <td>0</td>\n",
              "      <td>0</td>\n",
              "      <td>1</td>\n",
              "    </tr>\n",
              "    <tr>\n",
              "      <th>25375</th>\n",
              "      <td>18260</td>\n",
              "      <td>2</td>\n",
              "      <td>170</td>\n",
              "      <td>70.0</td>\n",
              "      <td>120</td>\n",
              "      <td>80</td>\n",
              "      <td>3</td>\n",
              "      <td>3</td>\n",
              "      <td>0</td>\n",
              "      <td>0</td>\n",
              "      <td>1</td>\n",
              "    </tr>\n",
              "    <tr>\n",
              "      <th>65039</th>\n",
              "      <td>21954</td>\n",
              "      <td>1</td>\n",
              "      <td>159</td>\n",
              "      <td>65.0</td>\n",
              "      <td>120</td>\n",
              "      <td>80</td>\n",
              "      <td>1</td>\n",
              "      <td>1</td>\n",
              "      <td>0</td>\n",
              "      <td>0</td>\n",
              "      <td>0</td>\n",
              "    </tr>\n",
              "  </tbody>\n",
              "</table>\n",
              "<p>11196 rows × 11 columns</p>\n",
              "</div>"
            ],
            "text/plain": [
              "         age  gender  height  weight  ...  gluc  smoke  alco  active\n",
              "36174  20787       1     168    67.0  ...     3      0     0       1\n",
              "4101   20578       2     176    80.0  ...     1      1     1       1\n",
              "19924  18368       2     174    78.0  ...     1      0     0       1\n",
              "41995  17415       2     177    62.0  ...     1      1     0       1\n",
              "39939  23303       2     168    98.0  ...     3      1     0       1\n",
              "...      ...     ...     ...     ...  ...   ...    ...   ...     ...\n",
              "67206  16823       1     155    63.0  ...     1      0     0       0\n",
              "25036  22517       1     141    60.0  ...     3      0     0       0\n",
              "12153  15245       2     165    64.0  ...     1      0     0       1\n",
              "25375  18260       2     170    70.0  ...     3      0     0       1\n",
              "65039  21954       1     159    65.0  ...     1      0     0       0\n",
              "\n",
              "[11196 rows x 11 columns]"
            ]
          },
          "metadata": {
            "tags": []
          },
          "execution_count": 266
        }
      ]
    },
    {
      "cell_type": "markdown",
      "metadata": {
        "id": "72sdop0c4Wpw"
      },
      "source": [
        "### 3) 사이킷런의 LogisticRegression을 사용해 모델을 만들어 보세요.\n",
        "- 모델을 만들기 전에 기준모델을 설정합니다.\n",
        "- **LogisticRegression 모델을 학습하고(max_iter=1000) 검증세트 정확도를 과제 제출폼에 제출하세요.**\n"
      ]
    },
    {
      "cell_type": "code",
      "metadata": {
        "id": "KvYomU9A4Wpw",
        "colab": {
          "base_uri": "https://localhost:8080/"
        },
        "outputId": "8460787f-fd05-4bae-964f-ce9ac4df9008"
      },
      "source": [
        "y_train.value_counts(normalize=True)\n",
        "# mode(): Return the highest frequency value in a Series.\n",
        "major = y_train.mode()[0]\n",
        "\n",
        "# 타겟 샘플 수 만큼 0이 담긴 리스트를 만듭니다. 기준모델로 예측\n",
        "y_pred = [major] * len(y_train)\n",
        "\n",
        "from sklearn.metrics import accuracy_score\n",
        "print(\"training accuracy: \", accuracy_score(y_train, y_pred))\n",
        "\n",
        "# 검증세트 에서도 정확도를 확인해 볼 수 있습니다.\n",
        "y_pred = [major] * len(y_val)\n",
        "print(\"validation accuracy: \", accuracy_score(y_val, y_pred))\n",
        "\n"
      ],
      "execution_count": null,
      "outputs": [
        {
          "output_type": "stream",
          "text": [
            "training accuracy:  0.501697034655234\n",
            "validation accuracy:  0.49821364773133264\n"
          ],
          "name": "stdout"
        }
      ]
    },
    {
      "cell_type": "code",
      "metadata": {
        "id": "bFbtZlK9SLk9",
        "colab": {
          "base_uri": "https://localhost:8080/"
        },
        "outputId": "919e6dcf-7b63-43c3-b3ae-f2281048b0c4"
      },
      "source": [
        "from sklearn.linear_model import LogisticRegression\n",
        "\n",
        "logistic = LogisticRegression(max_iter=1000)\n",
        "logistic.fit(X_train, y_train)\n",
        "\n",
        "print('검증세트 정확도', logistic.score(X_val, y_val))"
      ],
      "execution_count": null,
      "outputs": [
        {
          "output_type": "stream",
          "text": [
            "검증세트 정확도 0.7073061807788495\n"
          ],
          "name": "stdout"
        }
      ]
    },
    {
      "cell_type": "markdown",
      "metadata": {
        "id": "UVyoq_IS4Wpw"
      },
      "source": [
        "### 4) 데이터에서 범주형 성질을 지닌 특성을 찾아 원핫인코딩 하세요.\n",
        "- category_encoders를 사용해서 'gender' 특성만 원핫인코딩 하세요.\n",
        "- LogisticRegression 모델을 다시 학습합니다.\n",
        "- **검증세트 정확도를 과제 제출폼에 제출하세요.**"
      ]
    },
    {
      "cell_type": "code",
      "metadata": {
        "id": "ykskl11Q4Wpx",
        "colab": {
          "base_uri": "https://localhost:8080/"
        },
        "outputId": "a14e2b70-e83f-4c45-fc7d-a0778b900297"
      },
      "source": [
        "!pip install --upgrade category_encoders"
      ],
      "execution_count": null,
      "outputs": [
        {
          "output_type": "stream",
          "text": [
            "Requirement already up-to-date: category_encoders in /usr/local/lib/python3.7/dist-packages (2.2.2)\n",
            "Requirement already satisfied, skipping upgrade: numpy>=1.14.0 in /usr/local/lib/python3.7/dist-packages (from category_encoders) (1.19.5)\n",
            "Requirement already satisfied, skipping upgrade: scipy>=1.0.0 in /usr/local/lib/python3.7/dist-packages (from category_encoders) (1.4.1)\n",
            "Requirement already satisfied, skipping upgrade: pandas>=0.21.1 in /usr/local/lib/python3.7/dist-packages (from category_encoders) (1.1.5)\n",
            "Requirement already satisfied, skipping upgrade: patsy>=0.5.1 in /usr/local/lib/python3.7/dist-packages (from category_encoders) (0.5.1)\n",
            "Requirement already satisfied, skipping upgrade: scikit-learn>=0.20.0 in /usr/local/lib/python3.7/dist-packages (from category_encoders) (0.22.2.post1)\n",
            "Requirement already satisfied, skipping upgrade: statsmodels>=0.9.0 in /usr/local/lib/python3.7/dist-packages (from category_encoders) (0.10.2)\n",
            "Requirement already satisfied, skipping upgrade: pytz>=2017.2 in /usr/local/lib/python3.7/dist-packages (from pandas>=0.21.1->category_encoders) (2018.9)\n",
            "Requirement already satisfied, skipping upgrade: python-dateutil>=2.7.3 in /usr/local/lib/python3.7/dist-packages (from pandas>=0.21.1->category_encoders) (2.8.1)\n",
            "Requirement already satisfied, skipping upgrade: six in /usr/local/lib/python3.7/dist-packages (from patsy>=0.5.1->category_encoders) (1.15.0)\n",
            "Requirement already satisfied, skipping upgrade: joblib>=0.11 in /usr/local/lib/python3.7/dist-packages (from scikit-learn>=0.20.0->category_encoders) (1.0.1)\n"
          ],
          "name": "stdout"
        }
      ]
    },
    {
      "cell_type": "code",
      "metadata": {
        "id": "tB1rIl36VA4K",
        "colab": {
          "base_uri": "https://localhost:8080/",
          "height": 345
        },
        "outputId": "7928aec4-10af-4402-8a08-ac5bdca7a40e"
      },
      "source": [
        "from category_encoders import OneHotEncoder\n",
        "from sklearn.impute import SimpleImputer\n",
        "from sklearn.linear_model import LogisticRegression\n",
        "from sklearn.preprocessing import StandardScaler\n",
        "\n",
        "\n",
        "#X_train['gender'] = X_train['gender'].replace([1,2],['F','M'])\n",
        "#X_test['gender'] = X_test['gender'].replace([1,2],['F','M'])\n",
        "#X_val['gender'] = X_val['gender'].replace([1,2],['F','M'])\n",
        "def gender_change(num):\n",
        "  if type(num) != str:\n",
        "    if num ==1:\n",
        "      num='women'\n",
        "    else:\n",
        "      num='men'\n",
        "  else:\n",
        "      return num\n",
        "  return num\n",
        "\n",
        "\n",
        "X_train['gender']=X_train['gender'].apply(gender_change)\n",
        "X_val['gender']=X_val['gender'].apply(gender_change)\n",
        "X_test['gender']=X_test['gender'].apply(gender_change)\n",
        "\n",
        "\n",
        "\n",
        "\n",
        "encoder = OneHotEncoder(use_cat_names=True)\n",
        "X_train= encoder.fit_transform(X_train)\n",
        "X_val = encoder.transform(X_val)\n",
        "X_train.head()"
      ],
      "execution_count": null,
      "outputs": [
        {
          "output_type": "stream",
          "text": [
            "/usr/local/lib/python3.7/dist-packages/ipykernel_launcher.py:23: SettingWithCopyWarning: \n",
            "A value is trying to be set on a copy of a slice from a DataFrame.\n",
            "Try using .loc[row_indexer,col_indexer] = value instead\n",
            "\n",
            "See the caveats in the documentation: https://pandas.pydata.org/pandas-docs/stable/user_guide/indexing.html#returning-a-view-versus-a-copy\n",
            "/usr/local/lib/python3.7/dist-packages/category_encoders/utils.py:21: FutureWarning: is_categorical is deprecated and will be removed in a future version.  Use is_categorical_dtype instead\n",
            "  elif pd.api.types.is_categorical(cols):\n"
          ],
          "name": "stderr"
        },
        {
          "output_type": "execute_result",
          "data": {
            "text/html": [
              "<div>\n",
              "<style scoped>\n",
              "    .dataframe tbody tr th:only-of-type {\n",
              "        vertical-align: middle;\n",
              "    }\n",
              "\n",
              "    .dataframe tbody tr th {\n",
              "        vertical-align: top;\n",
              "    }\n",
              "\n",
              "    .dataframe thead th {\n",
              "        text-align: right;\n",
              "    }\n",
              "</style>\n",
              "<table border=\"1\" class=\"dataframe\">\n",
              "  <thead>\n",
              "    <tr style=\"text-align: right;\">\n",
              "      <th></th>\n",
              "      <th>age</th>\n",
              "      <th>gender_women</th>\n",
              "      <th>gender_men</th>\n",
              "      <th>height</th>\n",
              "      <th>weight</th>\n",
              "      <th>ap_hi</th>\n",
              "      <th>ap_lo</th>\n",
              "      <th>cholesterol</th>\n",
              "      <th>gluc</th>\n",
              "      <th>smoke</th>\n",
              "      <th>alco</th>\n",
              "      <th>active</th>\n",
              "    </tr>\n",
              "  </thead>\n",
              "  <tbody>\n",
              "    <tr>\n",
              "      <th>221</th>\n",
              "      <td>17591</td>\n",
              "      <td>1</td>\n",
              "      <td>0</td>\n",
              "      <td>157</td>\n",
              "      <td>70.0</td>\n",
              "      <td>160</td>\n",
              "      <td>100</td>\n",
              "      <td>3</td>\n",
              "      <td>1</td>\n",
              "      <td>0</td>\n",
              "      <td>0</td>\n",
              "      <td>0</td>\n",
              "    </tr>\n",
              "    <tr>\n",
              "      <th>59211</th>\n",
              "      <td>19677</td>\n",
              "      <td>0</td>\n",
              "      <td>1</td>\n",
              "      <td>174</td>\n",
              "      <td>80.0</td>\n",
              "      <td>150</td>\n",
              "      <td>80</td>\n",
              "      <td>1</td>\n",
              "      <td>1</td>\n",
              "      <td>0</td>\n",
              "      <td>0</td>\n",
              "      <td>1</td>\n",
              "    </tr>\n",
              "    <tr>\n",
              "      <th>26654</th>\n",
              "      <td>23504</td>\n",
              "      <td>1</td>\n",
              "      <td>0</td>\n",
              "      <td>158</td>\n",
              "      <td>76.0</td>\n",
              "      <td>140</td>\n",
              "      <td>90</td>\n",
              "      <td>3</td>\n",
              "      <td>3</td>\n",
              "      <td>0</td>\n",
              "      <td>0</td>\n",
              "      <td>1</td>\n",
              "    </tr>\n",
              "    <tr>\n",
              "      <th>33421</th>\n",
              "      <td>18036</td>\n",
              "      <td>0</td>\n",
              "      <td>1</td>\n",
              "      <td>173</td>\n",
              "      <td>128.0</td>\n",
              "      <td>160</td>\n",
              "      <td>110</td>\n",
              "      <td>3</td>\n",
              "      <td>1</td>\n",
              "      <td>0</td>\n",
              "      <td>1</td>\n",
              "      <td>0</td>\n",
              "    </tr>\n",
              "    <tr>\n",
              "      <th>12046</th>\n",
              "      <td>20225</td>\n",
              "      <td>0</td>\n",
              "      <td>1</td>\n",
              "      <td>176</td>\n",
              "      <td>109.0</td>\n",
              "      <td>120</td>\n",
              "      <td>80</td>\n",
              "      <td>1</td>\n",
              "      <td>1</td>\n",
              "      <td>1</td>\n",
              "      <td>1</td>\n",
              "      <td>1</td>\n",
              "    </tr>\n",
              "  </tbody>\n",
              "</table>\n",
              "</div>"
            ],
            "text/plain": [
              "         age  gender_women  gender_men  height  ...  gluc  smoke  alco  active\n",
              "221    17591             1           0     157  ...     1      0     0       0\n",
              "59211  19677             0           1     174  ...     1      0     0       1\n",
              "26654  23504             1           0     158  ...     3      0     0       1\n",
              "33421  18036             0           1     173  ...     1      0     1       0\n",
              "12046  20225             0           1     176  ...     1      1     1       1\n",
              "\n",
              "[5 rows x 12 columns]"
            ]
          },
          "metadata": {
            "tags": []
          },
          "execution_count": 269
        }
      ]
    },
    {
      "cell_type": "code",
      "metadata": {
        "id": "ir1zit-9XPge",
        "colab": {
          "base_uri": "https://localhost:8080/"
        },
        "outputId": "8a0c440b-3f95-478d-d9cd-d0a63b396d4f"
      },
      "source": [
        "logistic = LogisticRegression(max_iter=1000)\n",
        "logistic.fit(X_train, y_train)\n",
        "\n",
        "print('검증세트 정확도', logistic.score(X_val, y_val))"
      ],
      "execution_count": null,
      "outputs": [
        {
          "output_type": "stream",
          "text": [
            "검증세트 정확도 0.7093604858878171\n"
          ],
          "name": "stdout"
        }
      ]
    },
    {
      "cell_type": "markdown",
      "metadata": {
        "id": "vXSUUxLI4Wpx"
      },
      "source": [
        "###"
      ]
    },
    {
      "cell_type": "markdown",
      "metadata": {
        "id": "lOHJOKPt4Wpx"
      },
      "source": [
        "### 5) 학습한 모델을 검증세트에서 최적화 시킨 후, 테스트세트에서 딱 한 번 정확도를 확인해 보세요.\n",
        "- **테스트 세트 정확도를 과제 제출폼에 제출하세요.(0.712 이상)**"
      ]
    },
    {
      "cell_type": "code",
      "metadata": {
        "id": "oDdp_srq4Wpx",
        "colab": {
          "base_uri": "https://localhost:8080/"
        },
        "outputId": "c8980bc5-9ba3-4fe0-b7eb-eae294b21a95"
      },
      "source": [
        "X_test['gender']=X_test['gender'].apply(gender_change)\n",
        "X_test = encoder.transform(X_test)\n",
        "\n",
        "from sklearn.preprocessing import StandardScaler\n",
        "\n",
        "scaler = StandardScaler()\n",
        "X_train_scaled = scaler.fit_transform(X_train)\n",
        "X_val_scaled = scaler.transform(X_val)\n",
        "logistic_scaled = LogisticRegression(max_iter=1000)\n",
        "logistic_scaled.fit(X_train_scaled, y_train)\n",
        "\n",
        "print('검증세트 정확도', logistic_scaled.score(X_val_scaled, y_val))"
      ],
      "execution_count": null,
      "outputs": [
        {
          "output_type": "stream",
          "text": [
            "검증세트 정확도 0.723383351196856\n"
          ],
          "name": "stdout"
        },
        {
          "output_type": "stream",
          "text": [
            "/usr/local/lib/python3.7/dist-packages/ipykernel_launcher.py:1: SettingWithCopyWarning: \n",
            "A value is trying to be set on a copy of a slice from a DataFrame.\n",
            "Try using .loc[row_indexer,col_indexer] = value instead\n",
            "\n",
            "See the caveats in the documentation: https://pandas.pydata.org/pandas-docs/stable/user_guide/indexing.html#returning-a-view-versus-a-copy\n",
            "  \"\"\"Entry point for launching an IPython kernel.\n"
          ],
          "name": "stderr"
        }
      ]
    },
    {
      "cell_type": "code",
      "metadata": {
        "id": "x8peSduKlkgl",
        "colab": {
          "base_uri": "https://localhost:8080/"
        },
        "outputId": "5f95f8a0-debe-48cf-8690-cd6a70fb411c"
      },
      "source": [
        "X_test_scaled = scaler.transform(X_test)\n",
        "print('테스트 세트 정확도', logistic_scaled.score(X_test_scaled, y_test))\n"
      ],
      "execution_count": null,
      "outputs": [
        {
          "output_type": "stream",
          "text": [
            "테스트 세트 정확도 0.7264218348099457\n"
          ],
          "name": "stdout"
        }
      ]
    },
    {
      "cell_type": "markdown",
      "metadata": {
        "id": "T3Hc3kmw4Wpx"
      },
      "source": [
        "## 🔥 도전과제:"
      ]
    },
    {
      "cell_type": "markdown",
      "metadata": {
        "id": "vtZWV_-e4Wpy"
      },
      "source": [
        "### 6) EDA를 추가적으로 수행하고 가능한 방법으로 모델을 튜닝해서 결과를 만들어 보세요. 최소한 다음 내용들이 포함이 되어야 합니다.\n",
        "- 새로운 특성을 최소한 한 개 이상 만드세요.\n",
        "- 특성들을 확인해서 아웃라이어라고 생각되는 데이터를 가진 샘플을 제거하세요.\n",
        "- [feature scaling](https://scikit-learn.org/stable/modules/preprocessing.html) 을 사용하세요. (여러가지 종류의 Scalar를 어떤 상황에 적용해야 하는지 알아보고 사용해 보세요.)\n",
        "- 만들어진 모델 성능을 리포팅하고 해석합니다.\n"
      ]
    }
  ]
}